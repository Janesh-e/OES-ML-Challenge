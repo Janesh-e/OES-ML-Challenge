{
  "cells": [
    {
      "cell_type": "markdown",
      "metadata": {
        "id": "9ZyYJMwBGX10"
      },
      "source": [
        "# **IMPORT LIBRARIES**"
      ]
    },
    {
      "cell_type": "code",
      "execution_count": null,
      "metadata": {
        "id": "rF6hOWjuGU77"
      },
      "outputs": [],
      "source": [
        "import pandas as pd\n",
        "import numpy as np\n",
        "import seaborn as sns\n",
        "import matplotlib.pyplot as plt\n",
        "from sklearn.preprocessing import MinMaxScaler, StandardScaler\n",
        "from sklearn.ensemble import RandomForestClassifier\n",
        "from sklearn.metrics import classification_report, confusion_matrix, accuracy_score, roc_auc_score\n",
        "from sklearn.model_selection import train_test_split\n",
        "from sklearn.ensemble import GradientBoostingClassifier\n",
        "from sklearn.ensemble import AdaBoostClassifier\n",
        "from sklearn.svm import SVC\n",
        "from sklearn.naive_bayes import GaussianNB\n",
        "from sklearn.linear_model import LogisticRegression\n",
        "from sklearn.model_selection import GridSearchCV, RandomizedSearchCV\n",
        "\n",
        "from sklearn.neural_network import MLPClassifier\n",
        "from mlxtend.classifier import StackingClassifier"
      ]
    },
    {
      "cell_type": "code",
      "execution_count": null,
      "metadata": {
        "colab": {
          "base_uri": "https://localhost:8080/"
        },
        "id": "MNpH02hh-BLy",
        "outputId": "ea2a9196-7666-426b-aaba-8d6b3685cced"
      },
      "outputs": [
        {
          "name": "stdout",
          "output_type": "stream",
          "text": [
            "Requirement already satisfied: mlxtend in /usr/local/lib/python3.10/dist-packages (0.23.1)\n",
            "Requirement already satisfied: scipy>=1.2.1 in /usr/local/lib/python3.10/dist-packages (from mlxtend) (1.13.1)\n",
            "Requirement already satisfied: numpy>=1.16.2 in /usr/local/lib/python3.10/dist-packages (from mlxtend) (1.26.4)\n",
            "Requirement already satisfied: pandas>=0.24.2 in /usr/local/lib/python3.10/dist-packages (from mlxtend) (2.2.2)\n",
            "Requirement already satisfied: scikit-learn>=1.0.2 in /usr/local/lib/python3.10/dist-packages (from mlxtend) (1.5.2)\n",
            "Requirement already satisfied: matplotlib>=3.0.0 in /usr/local/lib/python3.10/dist-packages (from mlxtend) (3.7.1)\n",
            "Requirement already satisfied: joblib>=0.13.2 in /usr/local/lib/python3.10/dist-packages (from mlxtend) (1.4.2)\n",
            "Requirement already satisfied: contourpy>=1.0.1 in /usr/local/lib/python3.10/dist-packages (from matplotlib>=3.0.0->mlxtend) (1.3.0)\n",
            "Requirement already satisfied: cycler>=0.10 in /usr/local/lib/python3.10/dist-packages (from matplotlib>=3.0.0->mlxtend) (0.12.1)\n",
            "Requirement already satisfied: fonttools>=4.22.0 in /usr/local/lib/python3.10/dist-packages (from matplotlib>=3.0.0->mlxtend) (4.54.1)\n",
            "Requirement already satisfied: kiwisolver>=1.0.1 in /usr/local/lib/python3.10/dist-packages (from matplotlib>=3.0.0->mlxtend) (1.4.7)\n",
            "Requirement already satisfied: packaging>=20.0 in /usr/local/lib/python3.10/dist-packages (from matplotlib>=3.0.0->mlxtend) (24.1)\n",
            "Requirement already satisfied: pillow>=6.2.0 in /usr/local/lib/python3.10/dist-packages (from matplotlib>=3.0.0->mlxtend) (10.4.0)\n",
            "Requirement already satisfied: pyparsing>=2.3.1 in /usr/local/lib/python3.10/dist-packages (from matplotlib>=3.0.0->mlxtend) (3.1.4)\n",
            "Requirement already satisfied: python-dateutil>=2.7 in /usr/local/lib/python3.10/dist-packages (from matplotlib>=3.0.0->mlxtend) (2.8.2)\n",
            "Requirement already satisfied: pytz>=2020.1 in /usr/local/lib/python3.10/dist-packages (from pandas>=0.24.2->mlxtend) (2024.2)\n",
            "Requirement already satisfied: tzdata>=2022.7 in /usr/local/lib/python3.10/dist-packages (from pandas>=0.24.2->mlxtend) (2024.2)\n",
            "Requirement already satisfied: threadpoolctl>=3.1.0 in /usr/local/lib/python3.10/dist-packages (from scikit-learn>=1.0.2->mlxtend) (3.5.0)\n",
            "Requirement already satisfied: six>=1.5 in /usr/local/lib/python3.10/dist-packages (from python-dateutil>=2.7->matplotlib>=3.0.0->mlxtend) (1.16.0)\n"
          ]
        }
      ],
      "source": [
        "pip install mlxtend"
      ]
    },
    {
      "cell_type": "code",
      "execution_count": null,
      "metadata": {
        "colab": {
          "base_uri": "https://localhost:8080/"
        },
        "id": "XPgwSp1gyZ0V",
        "outputId": "6c36120c-de98-49ef-c1de-b8d55a6eb257"
      },
      "outputs": [
        {
          "name": "stdout",
          "output_type": "stream",
          "text": [
            "Requirement already satisfied: xgboost in /usr/local/lib/python3.10/dist-packages (2.1.1)\n",
            "Collecting catboost\n",
            "  Downloading catboost-1.2.7-cp310-cp310-manylinux2014_x86_64.whl.metadata (1.2 kB)\n",
            "Requirement already satisfied: numpy in /usr/local/lib/python3.10/dist-packages (from xgboost) (1.26.4)\n",
            "Requirement already satisfied: nvidia-nccl-cu12 in /usr/local/lib/python3.10/dist-packages (from xgboost) (2.23.4)\n",
            "Requirement already satisfied: scipy in /usr/local/lib/python3.10/dist-packages (from xgboost) (1.13.1)\n",
            "Requirement already satisfied: graphviz in /usr/local/lib/python3.10/dist-packages (from catboost) (0.20.3)\n",
            "Requirement already satisfied: matplotlib in /usr/local/lib/python3.10/dist-packages (from catboost) (3.7.1)\n",
            "Requirement already satisfied: pandas>=0.24 in /usr/local/lib/python3.10/dist-packages (from catboost) (2.2.2)\n",
            "Requirement already satisfied: plotly in /usr/local/lib/python3.10/dist-packages (from catboost) (5.24.1)\n",
            "Requirement already satisfied: six in /usr/local/lib/python3.10/dist-packages (from catboost) (1.16.0)\n",
            "Requirement already satisfied: python-dateutil>=2.8.2 in /usr/local/lib/python3.10/dist-packages (from pandas>=0.24->catboost) (2.8.2)\n",
            "Requirement already satisfied: pytz>=2020.1 in /usr/local/lib/python3.10/dist-packages (from pandas>=0.24->catboost) (2024.2)\n",
            "Requirement already satisfied: tzdata>=2022.7 in /usr/local/lib/python3.10/dist-packages (from pandas>=0.24->catboost) (2024.2)\n",
            "Requirement already satisfied: contourpy>=1.0.1 in /usr/local/lib/python3.10/dist-packages (from matplotlib->catboost) (1.3.0)\n",
            "Requirement already satisfied: cycler>=0.10 in /usr/local/lib/python3.10/dist-packages (from matplotlib->catboost) (0.12.1)\n",
            "Requirement already satisfied: fonttools>=4.22.0 in /usr/local/lib/python3.10/dist-packages (from matplotlib->catboost) (4.54.1)\n",
            "Requirement already satisfied: kiwisolver>=1.0.1 in /usr/local/lib/python3.10/dist-packages (from matplotlib->catboost) (1.4.7)\n",
            "Requirement already satisfied: packaging>=20.0 in /usr/local/lib/python3.10/dist-packages (from matplotlib->catboost) (24.1)\n",
            "Requirement already satisfied: pillow>=6.2.0 in /usr/local/lib/python3.10/dist-packages (from matplotlib->catboost) (10.4.0)\n",
            "Requirement already satisfied: pyparsing>=2.3.1 in /usr/local/lib/python3.10/dist-packages (from matplotlib->catboost) (3.1.4)\n",
            "Requirement already satisfied: tenacity>=6.2.0 in /usr/local/lib/python3.10/dist-packages (from plotly->catboost) (9.0.0)\n",
            "Downloading catboost-1.2.7-cp310-cp310-manylinux2014_x86_64.whl (98.7 MB)\n",
            "\u001b[2K   \u001b[90m━━━━━━━━━━━━━━━━━━━━━━━━━━━━━━━━━━━━━━━━\u001b[0m \u001b[32m98.7/98.7 MB\u001b[0m \u001b[31m9.9 MB/s\u001b[0m eta \u001b[36m0:00:00\u001b[0m\n",
            "\u001b[?25hInstalling collected packages: catboost\n",
            "Successfully installed catboost-1.2.7\n"
          ]
        }
      ],
      "source": [
        "pip install xgboost catboost"
      ]
    },
    {
      "cell_type": "code",
      "execution_count": null,
      "metadata": {
        "id": "pjzMGaAgyWY_"
      },
      "outputs": [],
      "source": [
        "from xgboost import XGBClassifier\n",
        "from catboost import CatBoostClassifier\n"
      ]
    },
    {
      "cell_type": "markdown",
      "metadata": {
        "id": "mSg-aQXEGyBL"
      },
      "source": [
        "# **IMPORT & INSPECT DATASETS**"
      ]
    },
    {
      "cell_type": "code",
      "execution_count": null,
      "metadata": {
        "id": "f0dTaR9WG2Br"
      },
      "outputs": [],
      "source": [
        "telemetry_data = pd.read_csv('/content/telemetry_for_operations_training.csv')\n",
        "operational_labels = pd.read_csv('/content/operations_labels_training.csv')"
      ]
    },
    {
      "cell_type": "code",
      "execution_count": null,
      "metadata": {
        "colab": {
          "base_uri": "https://localhost:8080/"
        },
        "id": "1x47KKlxMRnR",
        "outputId": "26b62c76-13c5-466c-d2ef-642ccaea598e"
      },
      "outputs": [
        {
          "name": "stdout",
          "output_type": "stream",
          "text": [
            "<class 'pandas.core.frame.DataFrame'>\n",
            "RangeIndex: 516073 entries, 0 to 516072\n",
            "Data columns (total 12 columns):\n",
            " #   Column             Non-Null Count   Dtype  \n",
            "---  ------             --------------   -----  \n",
            " 0   create_dt          516073 non-null  object \n",
            " 1   mdm_object_name    516073 non-null  int64  \n",
            " 2   mdm_model_id       516073 non-null  int64  \n",
            " 3   lon                516073 non-null  float64\n",
            " 4   lat                516073 non-null  float64\n",
            " 5   alt                516073 non-null  int64  \n",
            " 6   speed_gps          516073 non-null  float64\n",
            " 7   direction          516073 non-null  float64\n",
            " 8   accel_forward_nn   516073 non-null  float64\n",
            " 9   accel_braking_nn   516073 non-null  float64\n",
            " 10  accel_angular_nn   516073 non-null  float64\n",
            " 11  accel_vertical_nn  516073 non-null  float64\n",
            "dtypes: float64(8), int64(3), object(1)\n",
            "memory usage: 47.2+ MB\n",
            "None\n",
            "--------------------------------------------------\n",
            "<class 'pandas.core.frame.DataFrame'>\n",
            "RangeIndex: 3981 entries, 0 to 3980\n",
            "Data columns (total 5 columns):\n",
            " #   Column             Non-Null Count  Dtype \n",
            "---  ------             --------------  ----- \n",
            " 0   start_time         3981 non-null   object\n",
            " 1   end_time           3981 non-null   object\n",
            " 2   operation_kind_id  3981 non-null   int64 \n",
            " 3   mdm_object_name    3981 non-null   int64 \n",
            " 4   name               3981 non-null   object\n",
            "dtypes: int64(2), object(3)\n",
            "memory usage: 155.6+ KB\n",
            "None\n"
          ]
        }
      ],
      "source": [
        "# Display Dataset info\n",
        "print(telemetry_data.info())\n",
        "print(\"--------------------------------------------------\")\n",
        "print(operational_labels.info())"
      ]
    },
    {
      "cell_type": "code",
      "execution_count": null,
      "metadata": {
        "colab": {
          "base_uri": "https://localhost:8080/"
        },
        "id": "jQn6H6XWLNjj",
        "outputId": "2b958415-c7d5-44d9-b70d-f4c7c88f400a"
      },
      "outputs": [
        {
          "name": "stdout",
          "output_type": "stream",
          "text": [
            "             create_dt  mdm_object_name  mdm_model_id       lon       lat  \\\n",
            "0  2023-09-29 08:12:46             1498            62 -0.039352  0.005476   \n",
            "1  2023-09-29 08:12:47             1498            62 -0.039367  0.005442   \n",
            "2  2023-09-29 08:12:49             1498            62 -0.039382  0.005362   \n",
            "3  2023-09-29 08:12:51             1498            62 -0.039397  0.005297   \n",
            "4  2023-09-29 08:12:53             1498            62 -0.039413  0.005232   \n",
            "\n",
            "   alt  speed_gps  direction  accel_forward_nn  accel_braking_nn  \\\n",
            "0  217       15.7      194.0             0.098             0.000   \n",
            "1  216       14.4      196.0             0.000             0.294   \n",
            "2  216       15.2      180.0             0.000             0.490   \n",
            "3  216       12.9      198.0             0.000             0.196   \n",
            "4  216       10.6      180.0             0.000             1.372   \n",
            "\n",
            "   accel_angular_nn  accel_vertical_nn  \n",
            "0             0.490               0.98  \n",
            "1             0.000               1.96  \n",
            "2             0.490               1.96  \n",
            "3             0.588               0.00  \n",
            "4             0.392               1.96  \n"
          ]
        }
      ],
      "source": [
        "# Display the first few rows of each dataset\n",
        "print(telemetry_data.head())"
      ]
    },
    {
      "cell_type": "code",
      "execution_count": null,
      "metadata": {
        "colab": {
          "base_uri": "https://localhost:8080/"
        },
        "id": "JVuGPGutLWUB",
        "outputId": "e2eeefd9-0a02-4f50-ef59-d1db9e6716d6"
      },
      "outputs": [
        {
          "name": "stdout",
          "output_type": "stream",
          "text": [
            "            start_time             end_time  operation_kind_id  \\\n",
            "0  2023-09-26 08:00:12  2023-09-26 08:03:12                  0   \n",
            "1  2023-09-26 08:03:12  2023-09-26 08:08:11                  1   \n",
            "2  2023-09-26 08:08:11  2023-09-26 08:26:28                  2   \n",
            "3  2023-09-26 08:26:28  2023-09-26 08:26:58                  3   \n",
            "4  2023-09-26 08:27:30  2023-09-26 08:38:42                  5   \n",
            "\n",
            "   mdm_object_name            name  \n",
            "0              119            idle  \n",
            "1              119         loading  \n",
            "2              119   riding_loaded  \n",
            "3              119  unloading_lift  \n",
            "4              119    riding_empty  \n"
          ]
        }
      ],
      "source": [
        "print(operational_labels.head())"
      ]
    },
    {
      "cell_type": "code",
      "execution_count": null,
      "metadata": {
        "colab": {
          "base_uri": "https://localhost:8080/"
        },
        "id": "3yHdGP7RLnRB",
        "outputId": "2ff23b73-8faf-436c-aac3-918cc5e78c6d"
      },
      "outputs": [
        {
          "name": "stdout",
          "output_type": "stream",
          "text": [
            "       mdm_object_name   mdm_model_id           lon           lat  \\\n",
            "count    516073.000000  516073.000000  5.160730e+05  5.160730e+05   \n",
            "mean        702.413372      61.461065 -5.794578e+02 -5.794038e+02   \n",
            "std         636.085455       0.498482  2.406669e+04  2.406445e+04   \n",
            "min         119.000000      61.000000 -1.000142e+06 -1.000049e+06   \n",
            "25%         121.000000      61.000000 -2.191073e-02 -9.752221e-03   \n",
            "50%         125.000000      61.000000  7.569250e-03  2.370887e-03   \n",
            "75%        1436.000000      62.000000  2.118009e-02  9.000830e-03   \n",
            "max        1498.000000      62.000000  3.247159e-02  2.044874e-02   \n",
            "\n",
            "                 alt      speed_gps      direction  accel_forward_nn  \\\n",
            "count  516073.000000  516073.000000  516073.000000     516073.000000   \n",
            "mean       42.494349      13.473738     176.415423          0.246462   \n",
            "std        94.651927      10.384209     102.775215          0.547236   \n",
            "min      -146.000000       0.000000       0.000000          0.000000   \n",
            "25%       -42.000000       0.000000      97.000000          0.000000   \n",
            "50%        57.000000      14.100000     171.000000          0.000000   \n",
            "75%        95.000000      20.100000     262.000000          0.196000   \n",
            "max       241.000000      91.000000     360.000000          5.096000   \n",
            "\n",
            "       accel_braking_nn  accel_angular_nn  accel_vertical_nn  \n",
            "count     516073.000000     516073.000000      516073.000000  \n",
            "mean           0.214678          0.424484           0.376566  \n",
            "std            0.471499          0.796143           0.536240  \n",
            "min            0.000000          0.000000           0.000000  \n",
            "25%            0.000000          0.000000           0.000000  \n",
            "50%            0.000000          0.000000           0.000000  \n",
            "75%            0.196000          0.490000           0.980000  \n",
            "max           16.758000         14.406000          10.976000  \n",
            "------------------------------------------------------------------------------\n",
            "       operation_kind_id  mdm_object_name\n",
            "count        3981.000000      3981.000000\n",
            "mean            2.430796       622.809344\n",
            "std             1.801464       628.203845\n",
            "min             0.000000       119.000000\n",
            "25%             1.000000       121.000000\n",
            "50%             2.000000       122.000000\n",
            "75%             5.000000      1436.000000\n",
            "max             5.000000      1498.000000\n"
          ]
        }
      ],
      "source": [
        "# 3. Get basic statistics\n",
        "print(telemetry_data.describe())\n",
        "print(\"------------------------------------------------------------------------------\")\n",
        "print(operational_labels.describe())"
      ]
    },
    {
      "cell_type": "code",
      "execution_count": null,
      "metadata": {
        "colab": {
          "base_uri": "https://localhost:8080/"
        },
        "id": "HukiN52dL4XL",
        "outputId": "930db796-ba7f-458c-9d8f-a29a7761d07d"
      },
      "outputs": [
        {
          "name": "stdout",
          "output_type": "stream",
          "text": [
            "mdm_model_id\n",
            "61    278130\n",
            "62    237943\n",
            "Name: count, dtype: int64\n"
          ]
        }
      ],
      "source": [
        "# 5. Check unique values for categorical columns\n",
        "print(telemetry_data['mdm_model_id'].value_counts())"
      ]
    },
    {
      "cell_type": "code",
      "execution_count": null,
      "metadata": {
        "colab": {
          "base_uri": "https://localhost:8080/"
        },
        "id": "LCe3ukxxMjnU",
        "outputId": "c9a90b6a-a2ce-4719-ba77-a3b1ab965181"
      },
      "outputs": [
        {
          "name": "stdout",
          "output_type": "stream",
          "text": [
            "operation_kind_id\n",
            "5    1042\n",
            "2     783\n",
            "3     726\n",
            "1     723\n",
            "0     707\n",
            "Name: count, dtype: int64\n"
          ]
        }
      ],
      "source": [
        "# Check unique values for operation_kind_id\n",
        "print(operational_labels['operation_kind_id'].value_counts())"
      ]
    },
    {
      "cell_type": "code",
      "execution_count": null,
      "metadata": {
        "colab": {
          "base_uri": "https://localhost:8080/"
        },
        "id": "H-SL2JspMBPq",
        "outputId": "acd6f374-aa50-41bd-d356-bfd70e9ef2ac"
      },
      "outputs": [
        {
          "name": "stdout",
          "output_type": "stream",
          "text": [
            "14891\n",
            "--------------------------------------------\n",
            "0\n"
          ]
        }
      ],
      "source": [
        "# 6. Check for duplicates\n",
        "print(telemetry_data.duplicated().sum())\n",
        "print(\"--------------------------------------------\")\n",
        "print(operational_labels.duplicated().sum())"
      ]
    },
    {
      "cell_type": "markdown",
      "metadata": {
        "id": "7MIdTtHcG_Pr"
      },
      "source": [
        "# **DATA PREPROCESSING**"
      ]
    },
    {
      "cell_type": "code",
      "execution_count": null,
      "metadata": {
        "id": "NIBQqYT5jnDT"
      },
      "outputs": [],
      "source": [
        "# Remove duplicates\n",
        "telemetry_data = telemetry_data.drop_duplicates()"
      ]
    },
    {
      "cell_type": "code",
      "execution_count": null,
      "metadata": {
        "id": "KEAhDl51Kcfc"
      },
      "outputs": [],
      "source": [
        "# Convert the relevant columns to datetime\n",
        "telemetry_data['create_dt'] = pd.to_datetime(telemetry_data['create_dt'], errors='coerce')\n",
        "operational_labels['start_time'] = pd.to_datetime(operational_labels['start_time'], errors='coerce')\n",
        "operational_labels['end_time'] = pd.to_datetime(operational_labels['end_time'], errors='coerce')"
      ]
    },
    {
      "cell_type": "code",
      "execution_count": null,
      "metadata": {
        "colab": {
          "base_uri": "https://localhost:8080/"
        },
        "id": "r6HlZu_bM7gi",
        "outputId": "b8ab716f-d18b-4c45-9672-1f8d8a4d5d70"
      },
      "outputs": [
        {
          "name": "stdout",
          "output_type": "stream",
          "text": [
            "<class 'pandas.core.frame.DataFrame'>\n",
            "Index: 501182 entries, 0 to 516072\n",
            "Data columns (total 12 columns):\n",
            " #   Column             Non-Null Count   Dtype         \n",
            "---  ------             --------------   -----         \n",
            " 0   create_dt          501172 non-null  datetime64[ns]\n",
            " 1   mdm_object_name    501182 non-null  int64         \n",
            " 2   mdm_model_id       501182 non-null  int64         \n",
            " 3   lon                501182 non-null  float64       \n",
            " 4   lat                501182 non-null  float64       \n",
            " 5   alt                501182 non-null  int64         \n",
            " 6   speed_gps          501182 non-null  float64       \n",
            " 7   direction          501182 non-null  float64       \n",
            " 8   accel_forward_nn   501182 non-null  float64       \n",
            " 9   accel_braking_nn   501182 non-null  float64       \n",
            " 10  accel_angular_nn   501182 non-null  float64       \n",
            " 11  accel_vertical_nn  501182 non-null  float64       \n",
            "dtypes: datetime64[ns](1), float64(8), int64(3)\n",
            "memory usage: 49.7 MB\n",
            "None\n",
            "--------------------------------------------------\n",
            "<class 'pandas.core.frame.DataFrame'>\n",
            "RangeIndex: 3981 entries, 0 to 3980\n",
            "Data columns (total 5 columns):\n",
            " #   Column             Non-Null Count  Dtype         \n",
            "---  ------             --------------  -----         \n",
            " 0   start_time         3981 non-null   datetime64[ns]\n",
            " 1   end_time           3981 non-null   datetime64[ns]\n",
            " 2   operation_kind_id  3981 non-null   int64         \n",
            " 3   mdm_object_name    3981 non-null   int64         \n",
            " 4   name               3981 non-null   object        \n",
            "dtypes: datetime64[ns](2), int64(2), object(1)\n",
            "memory usage: 155.6+ KB\n",
            "None\n"
          ]
        }
      ],
      "source": [
        "# Display Dataset info\n",
        "print(telemetry_data.info())\n",
        "print(\"--------------------------------------------------\")\n",
        "print(operational_labels.info())"
      ]
    },
    {
      "cell_type": "code",
      "execution_count": null,
      "metadata": {
        "id": "c1bua5mWKv9q"
      },
      "outputs": [],
      "source": [
        "# Drop rows with NaT values in 'create_dt'\n",
        "telemetry_data = telemetry_data.dropna(subset=['create_dt'])"
      ]
    },
    {
      "cell_type": "code",
      "execution_count": null,
      "metadata": {
        "id": "-w9ziL7kRGGm"
      },
      "outputs": [],
      "source": [
        "merged_data = pd.read_csv('/content/final_merged_data.csv')"
      ]
    },
    {
      "cell_type": "code",
      "execution_count": null,
      "metadata": {
        "id": "ZduTSWuPS3Sb"
      },
      "outputs": [],
      "source": [
        "merged_data['create_dt'] = pd.to_datetime(merged_data['create_dt'], errors='coerce')"
      ]
    },
    {
      "cell_type": "code",
      "execution_count": null,
      "metadata": {
        "id": "KkrmGLmvHDPL"
      },
      "outputs": [],
      "source": [
        "# Now perform the merge based on the timestamp\n",
        "'''merged_data = pd.merge_asof(telemetry_data.sort_values('create_dt'),\n",
        "                           operational_labels.sort_values('start_time'),\n",
        "                            by='mdm_object_name',\n",
        "                            left_on='create_dt',\n",
        "                            right_on='start_time',\n",
        "                            direction='nearest',\n",
        "                            tolerance=pd.Timedelta('180m'))'''"
      ]
    },
    {
      "cell_type": "code",
      "execution_count": null,
      "metadata": {
        "id": "woLDb793oK6B"
      },
      "outputs": [],
      "source": [
        "# Extract features from 'create_dt', 'start_time', and 'end_time'\n",
        "merged_data['create_hour'] = merged_data['create_dt'].dt.hour\n",
        "merged_data['create_day'] = merged_data['create_dt'].dt.dayofweek"
      ]
    },
    {
      "cell_type": "code",
      "execution_count": null,
      "metadata": {
        "colab": {
          "base_uri": "https://localhost:8080/"
        },
        "id": "RpW2Y2RkpaW8",
        "outputId": "24c08899-3d25-477b-9216-d264d502d6dc"
      },
      "outputs": [
        {
          "data": {
            "text/plain": [
              "Index(['create_dt', 'mdm_object_name', 'mdm_model_id', 'lon', 'lat', 'alt',\n",
              "       'speed_gps', 'direction', 'accel_forward_nn', 'accel_braking_nn',\n",
              "       'accel_angular_nn', 'accel_vertical_nn', 'start_time', 'end_time',\n",
              "       'operation_kind_id', 'name'],\n",
              "      dtype='object')"
            ]
          },
          "execution_count": 49,
          "metadata": {},
          "output_type": "execute_result"
        }
      ],
      "source": [
        "merged_data.columns"
      ]
    },
    {
      "cell_type": "code",
      "execution_count": null,
      "metadata": {
        "colab": {
          "base_uri": "https://localhost:8080/"
        },
        "id": "gkHFWa8qPSrx",
        "outputId": "134099b6-2d5d-432c-c0c4-9fb997a7c717"
      },
      "outputs": [
        {
          "name": "stdout",
          "output_type": "stream",
          "text": [
            "<class 'pandas.core.frame.DataFrame'>\n",
            "RangeIndex: 496733 entries, 0 to 496732\n",
            "Data columns (total 16 columns):\n",
            " #   Column             Non-Null Count   Dtype         \n",
            "---  ------             --------------   -----         \n",
            " 0   create_dt          496733 non-null  datetime64[ns]\n",
            " 1   mdm_object_name    496733 non-null  int64         \n",
            " 2   mdm_model_id       496733 non-null  int64         \n",
            " 3   lon                496733 non-null  float64       \n",
            " 4   lat                496733 non-null  float64       \n",
            " 5   alt                496733 non-null  int64         \n",
            " 6   speed_gps          496733 non-null  float64       \n",
            " 7   direction          496733 non-null  float64       \n",
            " 8   accel_forward_nn   496733 non-null  float64       \n",
            " 9   accel_braking_nn   496733 non-null  float64       \n",
            " 10  accel_angular_nn   496733 non-null  float64       \n",
            " 11  accel_vertical_nn  496733 non-null  float64       \n",
            " 12  start_time         496733 non-null  object        \n",
            " 13  end_time           496733 non-null  object        \n",
            " 14  operation_kind_id  496733 non-null  int64         \n",
            " 15  name               496733 non-null  object        \n",
            "dtypes: datetime64[ns](1), float64(8), int64(4), object(3)\n",
            "memory usage: 60.6+ MB\n"
          ]
        }
      ],
      "source": [
        "merged_data.info()"
      ]
    },
    {
      "cell_type": "code",
      "execution_count": null,
      "metadata": {
        "id": "pStrxhkyk9Mo"
      },
      "outputs": [],
      "source": [
        "# Filter out rows where the telemetry time is outside the start_time and end_time intervals\n",
        "#merged_data = merged_data[(merged_data['create_dt'] >= merged_data['start_time']) & (merged_data['create_dt'] <= merged_data['end_time'])]"
      ]
    },
    {
      "cell_type": "code",
      "execution_count": null,
      "metadata": {
        "colab": {
          "base_uri": "https://localhost:8080/"
        },
        "id": "2W6kQk0etTHv",
        "outputId": "82a1d076-b713-4070-a4a4-91db3ff408f4"
      },
      "outputs": [
        {
          "data": {
            "text/plain": [
              "(496733, 16)"
            ]
          },
          "execution_count": 51,
          "metadata": {},
          "output_type": "execute_result"
        }
      ],
      "source": [
        "merged_data.shape"
      ]
    },
    {
      "cell_type": "code",
      "execution_count": null,
      "metadata": {
        "id": "0Eqw3Y06SdEI"
      },
      "outputs": [],
      "source": [
        "# Filter numeric columns only for correlation calculation\n",
        "numeric_columns = merged_data.select_dtypes(include=['float64', 'int64', 'int32'])"
      ]
    },
    {
      "cell_type": "code",
      "execution_count": null,
      "metadata": {
        "colab": {
          "base_uri": "https://localhost:8080/",
          "height": 800
        },
        "id": "awGbkj7GPGqg",
        "outputId": "b26c9649-de14-4eee-c490-879009f2b5ac"
      },
      "outputs": [
        {
          "data": {
            "image/png": "[encoded data removed]",
            "text/plain": [
              "<Figure size 1000x800 with 2 Axes>"
            ]
          },
          "metadata": {},
          "output_type": "display_data"
        }
      ],
      "source": [
        "# Correlation heatmap\n",
        "plt.figure(figsize=(10, 8))\n",
        "sns.heatmap(numeric_columns.corr(), annot=True, cmap='coolwarm')\n",
        "plt.show()"
      ]
    },
    {
      "cell_type": "code",
      "execution_count": null,
      "metadata": {
        "id": "739Gs9WWv9rT"
      },
      "outputs": [],
      "source": [
        "# Define the columns to scale (exclude the target variable if any)\n",
        "numeric_features = ['speed_gps', 'accel_forward_nn', 'accel_braking_nn', 'accel_angular_nn', 'accel_vertical_nn', 'lon', 'lat', 'alt ','direction']\n",
        "\n",
        "# Initialize the scaler\n",
        "scaler = StandardScaler()\n",
        "\n",
        "# Fit and transform the numeric columns\n",
        "merged_data[numeric_features] = scaler.fit_transform(merged_data[numeric_features])"
      ]
    },
    {
      "cell_type": "code",
      "execution_count": null,
      "metadata": {
        "id": "4rYjEXkeX9rP"
      },
      "outputs": [],
      "source": [
        "# remove nan from merged_data\n",
        "merged_data = merged_data.dropna()"
      ]
    },
    {
      "cell_type": "markdown",
      "metadata": {
        "id": "YK0s40hjwFTo"
      },
      "source": [
        "# **TRAIN/TEST SPLIT**"
      ]
    },
    {
      "cell_type": "code",
      "execution_count": null,
      "metadata": {
        "id": "9GyFvJVEwJAF"
      },
      "outputs": [],
      "source": [
        "# Define the target and features (assuming 'operation_kind_id' is the target)\n",
        "X = merged_data.drop(columns=['operation_kind_id','create_dt','start_time','end_time','name'])\n",
        "y = merged_data['operation_kind_id']"
      ]
    },
    {
      "cell_type": "code",
      "execution_count": null,
      "metadata": {
        "colab": {
          "base_uri": "https://localhost:8080/"
        },
        "id": "4IhA0vjy8CjT",
        "outputId": "331b37a8-e395-4a93-8c13-c6805b624515"
      },
      "outputs": [
        {
          "name": "stdout",
          "output_type": "stream",
          "text": [
            "(496733, 9)\n",
            "(496733,)\n"
          ]
        }
      ],
      "source": [
        "# Check the shape of X and y\n",
        "print(X.shape)\n",
        "print(y.shape)"
      ]
    },
    {
      "cell_type": "code",
      "execution_count": null,
      "metadata": {
        "id": "yh-i0beIwZkK"
      },
      "outputs": [],
      "source": [
        "# Split data into training and testing sets (80% train, 20% test)\n",
        "X_train, X_test, y_train, y_test = train_test_split(X, y, test_size=0.15 ,random_state=52)"
      ]
    },
    {
      "cell_type": "code",
      "execution_count": null,
      "metadata": {
        "id": "NubOzLs8aUkB"
      },
      "outputs": [],
      "source": [
        "# Optional: Scale the features\n",
        "scaler = StandardScaler()\n",
        "X_train_scaled = scaler.fit_transform(X_train)\n",
        "X_test_scaled = scaler.transform(X_test)"
      ]
    },
    {
      "cell_type": "markdown",
      "metadata": {
        "id": "pusMcmvt8F4s"
      },
      "source": [
        "# **MODEL TRAINING**"
      ]
    },
    {
      "cell_type": "code",
      "execution_count": null,
      "metadata": {
        "colab": {
          "base_uri": "https://localhost:8080/",
          "height": 80
        },
        "id": "E9WXuzFN8PKH",
        "outputId": "bd0bec1e-dd2c-47b3-e8d0-0c64cb80cf14"
      },
      "outputs": [
        {
          "data": {
            "text/html": [
              "<style>#sk-container-id-1 {\n",
              "  /* Definition of color scheme common for light and dark mode */\n",
              "  --sklearn-color-text: black;\n",
              "  --sklearn-color-line: gray;\n",
              "  /* Definition of color scheme for unfitted estimators */\n",
              "  --sklearn-color-unfitted-level-0: #fff5e6;\n",
              "  --sklearn-color-unfitted-level-1: #f6e4d2;\n",
              "  --sklearn-color-unfitted-level-2: #ffe0b3;\n",
              "  --sklearn-color-unfitted-level-3: chocolate;\n",
              "  /* Definition of color scheme for fitted estimators */\n",
              "  --sklearn-color-fitted-level-0: #f0f8ff;\n",
              "  --sklearn-color-fitted-level-1: #d4ebff;\n",
              "  --sklearn-color-fitted-level-2: #b3dbfd;\n",
              "  --sklearn-color-fitted-level-3: cornflowerblue;\n",
              "\n",
              "  /* Specific color for light theme */\n",
              "  --sklearn-color-text-on-default-background: var(--sg-text-color, var(--theme-code-foreground, var(--jp-content-font-color1, black)));\n",
              "  --sklearn-color-background: var(--sg-background-color, var(--theme-background, var(--jp-layout-color0, white)));\n",
              "  --sklearn-color-border-box: var(--sg-text-color, var(--theme-code-foreground, var(--jp-content-font-color1, black)));\n",
              "  --sklearn-color-icon: #696969;\n",
              "\n",
              "  @media (prefers-color-scheme: dark) {\n",
              "    /* Redefinition of color scheme for dark theme */\n",
              "    --sklearn-color-text-on-default-background: var(--sg-text-color, var(--theme-code-foreground, var(--jp-content-font-color1, white)));\n",
              "    --sklearn-color-background: var(--sg-background-color, var(--theme-background, var(--jp-layout-color0, #111)));\n",
              "    --sklearn-color-border-box: var(--sg-text-color, var(--theme-code-foreground, var(--jp-content-font-color1, white)));\n",
              "    --sklearn-color-icon: #878787;\n",
              "  }\n",
              "}\n",
              "\n",
              "#sk-container-id-1 {\n",
              "  color: var(--sklearn-color-text);\n",
              "}\n",
              "\n",
              "#sk-container-id-1 pre {\n",
              "  padding: 0;\n",
              "}\n",
              "\n",
              "#sk-container-id-1 input.sk-hidden--visually {\n",
              "  border: 0;\n",
              "  clip: rect(1px 1px 1px 1px);\n",
              "  clip: rect(1px, 1px, 1px, 1px);\n",
              "  height: 1px;\n",
              "  margin: -1px;\n",
              "  overflow: hidden;\n",
              "  padding: 0;\n",
              "  position: absolute;\n",
              "  width: 1px;\n",
              "}\n",
              "\n",
              "#sk-container-id-1 div.sk-dashed-wrapped {\n",
              "  border: 1px dashed var(--sklearn-color-line);\n",
              "  margin: 0 0.4em 0.5em 0.4em;\n",
              "  box-sizing: border-box;\n",
              "  padding-bottom: 0.4em;\n",
              "  background-color: var(--sklearn-color-background);\n",
              "}\n",
              "\n",
              "#sk-container-id-1 div.sk-container {\n",
              "  /* jupyter's `normalize.less` sets `[hidden] { display: none; }`\n",
              "     but bootstrap.min.css set `[hidden] { display: none !important; }`\n",
              "     so we also need the `!important` here to be able to override the\n",
              "     default hidden behavior on the sphinx rendered scikit-learn.org.\n",
              "     See: https://github.com/scikit-learn/scikit-learn/issues/21755 */\n",
              "  display: inline-block !important;\n",
              "  position: relative;\n",
              "}\n",
              "\n",
              "#sk-container-id-1 div.sk-text-repr-fallback {\n",
              "  display: none;\n",
              "}\n",
              "\n",
              "div.sk-parallel-item,\n",
              "div.sk-serial,\n",
              "div.sk-item {\n",
              "  /* draw centered vertical line to link estimators */\n",
              "  background-image: linear-gradient(var(--sklearn-color-text-on-default-background), var(--sklearn-color-text-on-default-background));\n",
              "  background-size: 2px 100%;\n",
              "  background-repeat: no-repeat;\n",
              "  background-position: center center;\n",
              "}\n",
              "\n",
              "/* Parallel-specific style estimator block */\n",
              "\n",
              "#sk-container-id-1 div.sk-parallel-item::after {\n",
              "  content: \"\";\n",
              "  width: 100%;\n",
              "  border-bottom: 2px solid var(--sklearn-color-text-on-default-background);\n",
              "  flex-grow: 1;\n",
              "}\n",
              "\n",
              "#sk-container-id-1 div.sk-parallel {\n",
              "  display: flex;\n",
              "  align-items: stretch;\n",
              "  justify-content: center;\n",
              "  background-color: var(--sklearn-color-background);\n",
              "  position: relative;\n",
              "}\n",
              "\n",
              "#sk-container-id-1 div.sk-parallel-item {\n",
              "  display: flex;\n",
              "  flex-direction: column;\n",
              "}\n",
              "\n",
              "#sk-container-id-1 div.sk-parallel-item:first-child::after {\n",
              "  align-self: flex-end;\n",
              "  width: 50%;\n",
              "}\n",
              "\n",
              "#sk-container-id-1 div.sk-parallel-item:last-child::after {\n",
              "  align-self: flex-start;\n",
              "  width: 50%;\n",
              "}\n",
              "\n",
              "#sk-container-id-1 div.sk-parallel-item:only-child::after {\n",
              "  width: 0;\n",
              "}\n",
              "\n",
              "/* Serial-specific style estimator block */\n",
              "\n",
              "#sk-container-id-1 div.sk-serial {\n",
              "  display: flex;\n",
              "  flex-direction: column;\n",
              "  align-items: center;\n",
              "  background-color: var(--sklearn-color-background);\n",
              "  padding-right: 1em;\n",
              "  padding-left: 1em;\n",
              "}\n",
              "\n",
              "\n",
              "/* Toggleable style: style used for estimator/Pipeline/ColumnTransformer box that is\n",
              "clickable and can be expanded/collapsed.\n",
              "- Pipeline and ColumnTransformer use this feature and define the default style\n",
              "- Estimators will overwrite some part of the style using the `sk-estimator` class\n",
              "*/\n",
              "\n",
              "/* Pipeline and ColumnTransformer style (default) */\n",
              "\n",
              "#sk-container-id-1 div.sk-toggleable {\n",
              "  /* Default theme specific background. It is overwritten whether we have a\n",
              "  specific estimator or a Pipeline/ColumnTransformer */\n",
              "  background-color: var(--sklearn-color-background);\n",
              "}\n",
              "\n",
              "/* Toggleable label */\n",
              "#sk-container-id-1 label.sk-toggleable__label {\n",
              "  cursor: pointer;\n",
              "  display: block;\n",
              "  width: 100%;\n",
              "  margin-bottom: 0;\n",
              "  padding: 0.5em;\n",
              "  box-sizing: border-box;\n",
              "  text-align: center;\n",
              "}\n",
              "\n",
              "#sk-container-id-1 label.sk-toggleable__label-arrow:before {\n",
              "  /* Arrow on the left of the label */\n",
              "  content: \"▸\";\n",
              "  float: left;\n",
              "  margin-right: 0.25em;\n",
              "  color: var(--sklearn-color-icon);\n",
              "}\n",
              "\n",
              "#sk-container-id-1 label.sk-toggleable__label-arrow:hover:before {\n",
              "  color: var(--sklearn-color-text);\n",
              "}\n",
              "\n",
              "/* Toggleable content - dropdown */\n",
              "\n",
              "#sk-container-id-1 div.sk-toggleable__content {\n",
              "  max-height: 0;\n",
              "  max-width: 0;\n",
              "  overflow: hidden;\n",
              "  text-align: left;\n",
              "  /* unfitted */\n",
              "  background-color: var(--sklearn-color-unfitted-level-0);\n",
              "}\n",
              "\n",
              "#sk-container-id-1 div.sk-toggleable__content.fitted {\n",
              "  /* fitted */\n",
              "  background-color: var(--sklearn-color-fitted-level-0);\n",
              "}\n",
              "\n",
              "#sk-container-id-1 div.sk-toggleable__content pre {\n",
              "  margin: 0.2em;\n",
              "  border-radius: 0.25em;\n",
              "  color: var(--sklearn-color-text);\n",
              "  /* unfitted */\n",
              "  background-color: var(--sklearn-color-unfitted-level-0);\n",
              "}\n",
              "\n",
              "#sk-container-id-1 div.sk-toggleable__content.fitted pre {\n",
              "  /* unfitted */\n",
              "  background-color: var(--sklearn-color-fitted-level-0);\n",
              "}\n",
              "\n",
              "#sk-container-id-1 input.sk-toggleable__control:checked~div.sk-toggleable__content {\n",
              "  /* Expand drop-down */\n",
              "  max-height: 200px;\n",
              "  max-width: 100%;\n",
              "  overflow: auto;\n",
              "}\n",
              "\n",
              "#sk-container-id-1 input.sk-toggleable__control:checked~label.sk-toggleable__label-arrow:before {\n",
              "  content: \"▾\";\n",
              "}\n",
              "\n",
              "/* Pipeline/ColumnTransformer-specific style */\n",
              "\n",
              "#sk-container-id-1 div.sk-label input.sk-toggleable__control:checked~label.sk-toggleable__label {\n",
              "  color: var(--sklearn-color-text);\n",
              "  background-color: var(--sklearn-color-unfitted-level-2);\n",
              "}\n",
              "\n",
              "#sk-container-id-1 div.sk-label.fitted input.sk-toggleable__control:checked~label.sk-toggleable__label {\n",
              "  background-color: var(--sklearn-color-fitted-level-2);\n",
              "}\n",
              "\n",
              "/* Estimator-specific style */\n",
              "\n",
              "/* Colorize estimator box */\n",
              "#sk-container-id-1 div.sk-estimator input.sk-toggleable__control:checked~label.sk-toggleable__label {\n",
              "  /* unfitted */\n",
              "  background-color: var(--sklearn-color-unfitted-level-2);\n",
              "}\n",
              "\n",
              "#sk-container-id-1 div.sk-estimator.fitted input.sk-toggleable__control:checked~label.sk-toggleable__label {\n",
              "  /* fitted */\n",
              "  background-color: var(--sklearn-color-fitted-level-2);\n",
              "}\n",
              "\n",
              "#sk-container-id-1 div.sk-label label.sk-toggleable__label,\n",
              "#sk-container-id-1 div.sk-label label {\n",
              "  /* The background is the default theme color */\n",
              "  color: var(--sklearn-color-text-on-default-background);\n",
              "}\n",
              "\n",
              "/* On hover, darken the color of the background */\n",
              "#sk-container-id-1 div.sk-label:hover label.sk-toggleable__label {\n",
              "  color: var(--sklearn-color-text);\n",
              "  background-color: var(--sklearn-color-unfitted-level-2);\n",
              "}\n",
              "\n",
              "/* Label box, darken color on hover, fitted */\n",
              "#sk-container-id-1 div.sk-label.fitted:hover label.sk-toggleable__label.fitted {\n",
              "  color: var(--sklearn-color-text);\n",
              "  background-color: var(--sklearn-color-fitted-level-2);\n",
              "}\n",
              "\n",
              "/* Estimator label */\n",
              "\n",
              "#sk-container-id-1 div.sk-label label {\n",
              "  font-family: monospace;\n",
              "  font-weight: bold;\n",
              "  display: inline-block;\n",
              "  line-height: 1.2em;\n",
              "}\n",
              "\n",
              "#sk-container-id-1 div.sk-label-container {\n",
              "  text-align: center;\n",
              "}\n",
              "\n",
              "/* Estimator-specific */\n",
              "#sk-container-id-1 div.sk-estimator {\n",
              "  font-family: monospace;\n",
              "  border: 1px dotted var(--sklearn-color-border-box);\n",
              "  border-radius: 0.25em;\n",
              "  box-sizing: border-box;\n",
              "  margin-bottom: 0.5em;\n",
              "  /* unfitted */\n",
              "  background-color: var(--sklearn-color-unfitted-level-0);\n",
              "}\n",
              "\n",
              "#sk-container-id-1 div.sk-estimator.fitted {\n",
              "  /* fitted */\n",
              "  background-color: var(--sklearn-color-fitted-level-0);\n",
              "}\n",
              "\n",
              "/* on hover */\n",
              "#sk-container-id-1 div.sk-estimator:hover {\n",
              "  /* unfitted */\n",
              "  background-color: var(--sklearn-color-unfitted-level-2);\n",
              "}\n",
              "\n",
              "#sk-container-id-1 div.sk-estimator.fitted:hover {\n",
              "  /* fitted */\n",
              "  background-color: var(--sklearn-color-fitted-level-2);\n",
              "}\n",
              "\n",
              "/* Specification for estimator info (e.g. \"i\" and \"?\") */\n",
              "\n",
              "/* Common style for \"i\" and \"?\" */\n",
              "\n",
              ".sk-estimator-doc-link,\n",
              "a:link.sk-estimator-doc-link,\n",
              "a:visited.sk-estimator-doc-link {\n",
              "  float: right;\n",
              "  font-size: smaller;\n",
              "  line-height: 1em;\n",
              "  font-family: monospace;\n",
              "  background-color: var(--sklearn-color-background);\n",
              "  border-radius: 1em;\n",
              "  height: 1em;\n",
              "  width: 1em;\n",
              "  text-decoration: none !important;\n",
              "  margin-left: 1ex;\n",
              "  /* unfitted */\n",
              "  border: var(--sklearn-color-unfitted-level-1) 1pt solid;\n",
              "  color: var(--sklearn-color-unfitted-level-1);\n",
              "}\n",
              "\n",
              ".sk-estimator-doc-link.fitted,\n",
              "a:link.sk-estimator-doc-link.fitted,\n",
              "a:visited.sk-estimator-doc-link.fitted {\n",
              "  /* fitted */\n",
              "  border: var(--sklearn-color-fitted-level-1) 1pt solid;\n",
              "  color: var(--sklearn-color-fitted-level-1);\n",
              "}\n",
              "\n",
              "/* On hover */\n",
              "div.sk-estimator:hover .sk-estimator-doc-link:hover,\n",
              ".sk-estimator-doc-link:hover,\n",
              "div.sk-label-container:hover .sk-estimator-doc-link:hover,\n",
              ".sk-estimator-doc-link:hover {\n",
              "  /* unfitted */\n",
              "  background-color: var(--sklearn-color-unfitted-level-3);\n",
              "  color: var(--sklearn-color-background);\n",
              "  text-decoration: none;\n",
              "}\n",
              "\n",
              "div.sk-estimator.fitted:hover .sk-estimator-doc-link.fitted:hover,\n",
              ".sk-estimator-doc-link.fitted:hover,\n",
              "div.sk-label-container:hover .sk-estimator-doc-link.fitted:hover,\n",
              ".sk-estimator-doc-link.fitted:hover {\n",
              "  /* fitted */\n",
              "  background-color: var(--sklearn-color-fitted-level-3);\n",
              "  color: var(--sklearn-color-background);\n",
              "  text-decoration: none;\n",
              "}\n",
              "\n",
              "/* Span, style for the box shown on hovering the info icon */\n",
              ".sk-estimator-doc-link span {\n",
              "  display: none;\n",
              "  z-index: 9999;\n",
              "  position: relative;\n",
              "  font-weight: normal;\n",
              "  right: .2ex;\n",
              "  padding: .5ex;\n",
              "  margin: .5ex;\n",
              "  width: min-content;\n",
              "  min-width: 20ex;\n",
              "  max-width: 50ex;\n",
              "  color: var(--sklearn-color-text);\n",
              "  box-shadow: 2pt 2pt 4pt #999;\n",
              "  /* unfitted */\n",
              "  background: var(--sklearn-color-unfitted-level-0);\n",
              "  border: .5pt solid var(--sklearn-color-unfitted-level-3);\n",
              "}\n",
              "\n",
              ".sk-estimator-doc-link.fitted span {\n",
              "  /* fitted */\n",
              "  background: var(--sklearn-color-fitted-level-0);\n",
              "  border: var(--sklearn-color-fitted-level-3);\n",
              "}\n",
              "\n",
              ".sk-estimator-doc-link:hover span {\n",
              "  display: block;\n",
              "}\n",
              "\n",
              "/* \"?\"-specific style due to the `<a>` HTML tag */\n",
              "\n",
              "#sk-container-id-1 a.estimator_doc_link {\n",
              "  float: right;\n",
              "  font-size: 1rem;\n",
              "  line-height: 1em;\n",
              "  font-family: monospace;\n",
              "  background-color: var(--sklearn-color-background);\n",
              "  border-radius: 1rem;\n",
              "  height: 1rem;\n",
              "  width: 1rem;\n",
              "  text-decoration: none;\n",
              "  /* unfitted */\n",
              "  color: var(--sklearn-color-unfitted-level-1);\n",
              "  border: var(--sklearn-color-unfitted-level-1) 1pt solid;\n",
              "}\n",
              "\n",
              "#sk-container-id-1 a.estimator_doc_link.fitted {\n",
              "  /* fitted */\n",
              "  border: var(--sklearn-color-fitted-level-1) 1pt solid;\n",
              "  color: var(--sklearn-color-fitted-level-1);\n",
              "}\n",
              "\n",
              "/* On hover */\n",
              "#sk-container-id-1 a.estimator_doc_link:hover {\n",
              "  /* unfitted */\n",
              "  background-color: var(--sklearn-color-unfitted-level-3);\n",
              "  color: var(--sklearn-color-background);\n",
              "  text-decoration: none;\n",
              "}\n",
              "\n",
              "#sk-container-id-1 a.estimator_doc_link.fitted:hover {\n",
              "  /* fitted */\n",
              "  background-color: var(--sklearn-color-fitted-level-3);\n",
              "}\n",
              "</style><div id=\"sk-container-id-1\" class=\"sk-top-container\"><div class=\"sk-text-repr-fallback\"><pre>RandomForestClassifier(random_state=42)</pre><b>In a Jupyter environment, please rerun this cell to show the HTML representation or trust the notebook. <br />On GitHub, the HTML representation is unable to render, please try loading this page with nbviewer.org.</b></div><div class=\"sk-container\" hidden><div class=\"sk-item\"><div class=\"sk-estimator fitted sk-toggleable\"><input class=\"sk-toggleable__control sk-hidden--visually\" id=\"sk-estimator-id-1\" type=\"checkbox\" checked><label for=\"sk-estimator-id-1\" class=\"sk-toggleable__label fitted sk-toggleable__label-arrow fitted\">&nbsp;&nbsp;RandomForestClassifier<a class=\"sk-estimator-doc-link fitted\" rel=\"noreferrer\" target=\"_blank\" href=\"https://scikit-learn.org/1.5/modules/generated/sklearn.ensemble.RandomForestClassifier.html\">?<span>Documentation for RandomForestClassifier</span></a><span class=\"sk-estimator-doc-link fitted\">i<span>Fitted</span></span></label><div class=\"sk-toggleable__content fitted\"><pre>RandomForestClassifier(random_state=42)</pre></div> </div></div></div></div>"
            ],
            "text/plain": [
              "RandomForestClassifier(random_state=42)"
            ]
          },
          "execution_count": 94,
          "metadata": {},
          "output_type": "execute_result"
        }
      ],
      "source": [
        "# Initialize the model\n",
        "rf_model = RandomForestClassifier(random_state=42)\n",
        "\n",
        "# Train the model\n",
        "rf_model.fit(X_train, y_train)\n",
        "\n",
        "# Predict on the test data\n",
        "#y_pred = rf_model.predict(X_test)\n",
        "\n",
        "# Evaluate the model\n",
        "#print(classification_report(y_test, y_pred))"
      ]
    },
    {
      "cell_type": "code",
      "execution_count": null,
      "metadata": {
        "colab": {
          "base_uri": "https://localhost:8080/",
          "height": 641
        },
        "id": "g3yu08UwDlGN",
        "outputId": "46526740-0840-423e-f008-c89852d59d54"
      },
      "outputs": [
        {
          "data": {
            "image/png": "[encoded data removed]",
            "text/plain": [
              "<Figure size 1000x700 with 2 Axes>"
            ]
          },
          "metadata": {},
          "output_type": "display_data"
        }
      ],
      "source": [
        "# Compute confusion matrix\n",
        "cm = confusion_matrix(y_test, y_pred)\n",
        "\n",
        "# Plot confusion matrix\n",
        "plt.figure(figsize=(10, 7))\n",
        "sns.heatmap(cm, annot=True, fmt='d', cmap='Blues')\n",
        "\n",
        "# Add labels\n",
        "plt.xlabel('Predicted Labels')\n",
        "plt.ylabel('True Labels')\n",
        "plt.title('Confusion Matrix')\n",
        "plt.show()"
      ]
    },
    {
      "cell_type": "code",
      "execution_count": null,
      "metadata": {
        "id": "0bZ1yHMZcYC-"
      },
      "outputs": [],
      "source": [
        "# Hyperparameter grid for tuning\n",
        "param_grid = {\n",
        "    'n_estimators': [50, 100, 200],            # Number of trees in the forest\n",
        "    'max_depth': [10, 20, 30, None],           # Maximum depth of the tree\n",
        "    'min_samples_split': [2, 5, 10],           # Minimum samples required to split a node\n",
        "    'min_samples_leaf': [1, 2, 4],             # Minimum samples required at each leaf node\n",
        "    'max_features': ['auto', 'sqrt', 'log2'],  # Number of features to consider for the best split\n",
        "    'bootstrap': [True, False]                 # Whether bootstrap samples are used\n",
        "}"
      ]
    },
    {
      "cell_type": "code",
      "execution_count": null,
      "metadata": {
        "colab": {
          "base_uri": "https://localhost:8080/",
          "height": 842
        },
        "collapsed": true,
        "id": "IC5kiNiBcbtM",
        "outputId": "cf60ad3e-1b9a-4a58-bbc7-d107098aff01"
      },
      "outputs": [],
      "source": [
        "# Initialize Grid Search with 5-fold cross-validation\n",
        "grid_search = GridSearchCV(estimator=rf_model, param_grid=param_grid, cv=5, n_jobs=-1, verbose=2)\n",
        "\n",
        "# Fit the model\n",
        "grid_search.fit(X_train, y_train)\n",
        "\n",
        "# Print the best parameters found\n",
        "print(\"Best Parameters:\", grid_search.best_params_)"
      ]
    },
    {
      "cell_type": "code",
      "execution_count": null,
      "metadata": {
        "colab": {
          "base_uri": "https://localhost:8080/",
          "height": 356
        },
        "id": "Eber_G4MZgqO",
        "outputId": "1517b4af-40eb-45cc-fbf3-60185c38f92e"
      },
      "outputs": [],
      "source": [
        "# 1. Gradient Boosting Classifier\n",
        "gb_clf = GradientBoostingClassifier(learning_rate=0.01, max_depth=5, min_samples_leaf=1, min_samples_split=2, n_estimators=200, subsample=0.9, random_state=42)\n",
        "gb_clf.fit(X_train, y_train)\n",
        "gb_predictions = gb_clf.predict(X_test)"
      ]
    },
    {
      "cell_type": "code",
      "execution_count": null,
      "metadata": {
        "id": "t8tvWl4FyohF"
      },
      "outputs": [],
      "source": [
        "# Map the labels: change 5 to 4\n",
        "y_train_mapped = y_train.copy()\n",
        "y_test_mapped = y_test.copy()\n",
        "\n",
        "# Remapping label 5 to 4\n",
        "y_train_mapped = np.where(y_train == 5, 4, y_train)\n",
        "y_test_mapped = np.where(y_test == 5, 4, y_test)\n",
        "\n",
        "# Initialize the models\n",
        "xgb_model = XGBClassifier(random_state=42)   # XGBoost\n",
        "\n",
        "# Fit the models on training data\n",
        "xgb_model.fit(X_train, y_train_mapped)\n",
        "\n",
        "# Predictions on the test data\n",
        "xgb_pred = xgb_model.predict(X_test)\n",
        "\n",
        "# Remap the predictions if needed\n",
        "xgb_predictions_original = np.where(xgb_pred == 4, 5, xgb_pred)"
      ]
    },
    {
      "cell_type": "code",
      "execution_count": null,
      "metadata": {
        "id": "HaWm3g0-zCAX"
      },
      "outputs": [],
      "source": [
        "catboost_model = CatBoostClassifier(random_state=42, silent=True)  # CatBoost\n",
        "catboost_model.fit(X_train, y_train)\n",
        "catboost_pred = catboost_model.predict(X_test)"
      ]
    },
    {
      "cell_type": "code",
      "execution_count": null,
      "metadata": {
        "colab": {
          "base_uri": "https://localhost:8080/"
        },
        "id": "bumXykQQNPf7",
        "outputId": "f6c45e16-784a-480b-c938-2195c1d3f91a"
      },
      "outputs": [
        {
          "name": "stderr",
          "output_type": "stream",
          "text": [
            "/usr/local/lib/python3.10/dist-packages/sklearn/ensemble/_weight_boosting.py:527: FutureWarning: The SAMME.R algorithm (the default) is deprecated and will be removed in 1.6. Use the SAMME algorithm to circumvent this warning.\n",
            "  warnings.warn(\n"
          ]
        }
      ],
      "source": [
        "# Initialize AdaBoost model\n",
        "ab_model = AdaBoostClassifier(n_estimators=100, random_state=42)\n",
        "# Train the AdaBoost model\n",
        "ab_model.fit(X_train, y_train_mapped)  # Use the relabeled y_train_mapped if you're dealing with consecutive classes\n",
        "# Make predictions\n",
        "adaboost_predictions = ab_model.predict(X_test)\n"
      ]
    },
    {
      "cell_type": "code",
      "execution_count": null,
      "metadata": {
        "id": "dXeg7SkXrGl0"
      },
      "outputs": [],
      "source": [
        "\n",
        "# Support Vector Machine\n",
        "svm_clf = SVC(random_state=42)\n",
        "svm_clf.fit(X_train, y_train)\n",
        "svm_predictions = svm_clf.predict(X_test)\n"
      ]
    },
    {
      "cell_type": "code",
      "execution_count": null,
      "metadata": {
        "id": "rN80PkIV0STY"
      },
      "outputs": [],
      "source": [
        "\n",
        "# Naive Bayes\n",
        "nb_clf = GaussianNB()\n",
        "nb_clf.fit(X_train, y_train)\n",
        "nb_predictions = nb_clf.predict(X_test)"
      ]
    },
    {
      "cell_type": "code",
      "execution_count": null,
      "metadata": {
        "colab": {
          "base_uri": "https://localhost:8080/",
          "height": 80
        },
        "id": "mir2dDdM3NcL",
        "outputId": "cab71950-1c8b-4fff-d4af-46db8c23c924"
      },
      "outputs": [
        {
          "data": {
            "text/html": [
              "<style>#sk-container-id-4 {\n",
              "  /* Definition of color scheme common for light and dark mode */\n",
              "  --sklearn-color-text: black;\n",
              "  --sklearn-color-line: gray;\n",
              "  /* Definition of color scheme for unfitted estimators */\n",
              "  --sklearn-color-unfitted-level-0: #fff5e6;\n",
              "  --sklearn-color-unfitted-level-1: #f6e4d2;\n",
              "  --sklearn-color-unfitted-level-2: #ffe0b3;\n",
              "  --sklearn-color-unfitted-level-3: chocolate;\n",
              "  /* Definition of color scheme for fitted estimators */\n",
              "  --sklearn-color-fitted-level-0: #f0f8ff;\n",
              "  --sklearn-color-fitted-level-1: #d4ebff;\n",
              "  --sklearn-color-fitted-level-2: #b3dbfd;\n",
              "  --sklearn-color-fitted-level-3: cornflowerblue;\n",
              "\n",
              "  /* Specific color for light theme */\n",
              "  --sklearn-color-text-on-default-background: var(--sg-text-color, var(--theme-code-foreground, var(--jp-content-font-color1, black)));\n",
              "  --sklearn-color-background: var(--sg-background-color, var(--theme-background, var(--jp-layout-color0, white)));\n",
              "  --sklearn-color-border-box: var(--sg-text-color, var(--theme-code-foreground, var(--jp-content-font-color1, black)));\n",
              "  --sklearn-color-icon: #696969;\n",
              "\n",
              "  @media (prefers-color-scheme: dark) {\n",
              "    /* Redefinition of color scheme for dark theme */\n",
              "    --sklearn-color-text-on-default-background: var(--sg-text-color, var(--theme-code-foreground, var(--jp-content-font-color1, white)));\n",
              "    --sklearn-color-background: var(--sg-background-color, var(--theme-background, var(--jp-layout-color0, #111)));\n",
              "    --sklearn-color-border-box: var(--sg-text-color, var(--theme-code-foreground, var(--jp-content-font-color1, white)));\n",
              "    --sklearn-color-icon: #878787;\n",
              "  }\n",
              "}\n",
              "\n",
              "#sk-container-id-4 {\n",
              "  color: var(--sklearn-color-text);\n",
              "}\n",
              "\n",
              "#sk-container-id-4 pre {\n",
              "  padding: 0;\n",
              "}\n",
              "\n",
              "#sk-container-id-4 input.sk-hidden--visually {\n",
              "  border: 0;\n",
              "  clip: rect(1px 1px 1px 1px);\n",
              "  clip: rect(1px, 1px, 1px, 1px);\n",
              "  height: 1px;\n",
              "  margin: -1px;\n",
              "  overflow: hidden;\n",
              "  padding: 0;\n",
              "  position: absolute;\n",
              "  width: 1px;\n",
              "}\n",
              "\n",
              "#sk-container-id-4 div.sk-dashed-wrapped {\n",
              "  border: 1px dashed var(--sklearn-color-line);\n",
              "  margin: 0 0.4em 0.5em 0.4em;\n",
              "  box-sizing: border-box;\n",
              "  padding-bottom: 0.4em;\n",
              "  background-color: var(--sklearn-color-background);\n",
              "}\n",
              "\n",
              "#sk-container-id-4 div.sk-container {\n",
              "  /* jupyter's `normalize.less` sets `[hidden] { display: none; }`\n",
              "     but bootstrap.min.css set `[hidden] { display: none !important; }`\n",
              "     so we also need the `!important` here to be able to override the\n",
              "     default hidden behavior on the sphinx rendered scikit-learn.org.\n",
              "     See: https://github.com/scikit-learn/scikit-learn/issues/21755 */\n",
              "  display: inline-block !important;\n",
              "  position: relative;\n",
              "}\n",
              "\n",
              "#sk-container-id-4 div.sk-text-repr-fallback {\n",
              "  display: none;\n",
              "}\n",
              "\n",
              "div.sk-parallel-item,\n",
              "div.sk-serial,\n",
              "div.sk-item {\n",
              "  /* draw centered vertical line to link estimators */\n",
              "  background-image: linear-gradient(var(--sklearn-color-text-on-default-background), var(--sklearn-color-text-on-default-background));\n",
              "  background-size: 2px 100%;\n",
              "  background-repeat: no-repeat;\n",
              "  background-position: center center;\n",
              "}\n",
              "\n",
              "/* Parallel-specific style estimator block */\n",
              "\n",
              "#sk-container-id-4 div.sk-parallel-item::after {\n",
              "  content: \"\";\n",
              "  width: 100%;\n",
              "  border-bottom: 2px solid var(--sklearn-color-text-on-default-background);\n",
              "  flex-grow: 1;\n",
              "}\n",
              "\n",
              "#sk-container-id-4 div.sk-parallel {\n",
              "  display: flex;\n",
              "  align-items: stretch;\n",
              "  justify-content: center;\n",
              "  background-color: var(--sklearn-color-background);\n",
              "  position: relative;\n",
              "}\n",
              "\n",
              "#sk-container-id-4 div.sk-parallel-item {\n",
              "  display: flex;\n",
              "  flex-direction: column;\n",
              "}\n",
              "\n",
              "#sk-container-id-4 div.sk-parallel-item:first-child::after {\n",
              "  align-self: flex-end;\n",
              "  width: 50%;\n",
              "}\n",
              "\n",
              "#sk-container-id-4 div.sk-parallel-item:last-child::after {\n",
              "  align-self: flex-start;\n",
              "  width: 50%;\n",
              "}\n",
              "\n",
              "#sk-container-id-4 div.sk-parallel-item:only-child::after {\n",
              "  width: 0;\n",
              "}\n",
              "\n",
              "/* Serial-specific style estimator block */\n",
              "\n",
              "#sk-container-id-4 div.sk-serial {\n",
              "  display: flex;\n",
              "  flex-direction: column;\n",
              "  align-items: center;\n",
              "  background-color: var(--sklearn-color-background);\n",
              "  padding-right: 1em;\n",
              "  padding-left: 1em;\n",
              "}\n",
              "\n",
              "\n",
              "/* Toggleable style: style used for estimator/Pipeline/ColumnTransformer box that is\n",
              "clickable and can be expanded/collapsed.\n",
              "- Pipeline and ColumnTransformer use this feature and define the default style\n",
              "- Estimators will overwrite some part of the style using the `sk-estimator` class\n",
              "*/\n",
              "\n",
              "/* Pipeline and ColumnTransformer style (default) */\n",
              "\n",
              "#sk-container-id-4 div.sk-toggleable {\n",
              "  /* Default theme specific background. It is overwritten whether we have a\n",
              "  specific estimator or a Pipeline/ColumnTransformer */\n",
              "  background-color: var(--sklearn-color-background);\n",
              "}\n",
              "\n",
              "/* Toggleable label */\n",
              "#sk-container-id-4 label.sk-toggleable__label {\n",
              "  cursor: pointer;\n",
              "  display: block;\n",
              "  width: 100%;\n",
              "  margin-bottom: 0;\n",
              "  padding: 0.5em;\n",
              "  box-sizing: border-box;\n",
              "  text-align: center;\n",
              "}\n",
              "\n",
              "#sk-container-id-4 label.sk-toggleable__label-arrow:before {\n",
              "  /* Arrow on the left of the label */\n",
              "  content: \"▸\";\n",
              "  float: left;\n",
              "  margin-right: 0.25em;\n",
              "  color: var(--sklearn-color-icon);\n",
              "}\n",
              "\n",
              "#sk-container-id-4 label.sk-toggleable__label-arrow:hover:before {\n",
              "  color: var(--sklearn-color-text);\n",
              "}\n",
              "\n",
              "/* Toggleable content - dropdown */\n",
              "\n",
              "#sk-container-id-4 div.sk-toggleable__content {\n",
              "  max-height: 0;\n",
              "  max-width: 0;\n",
              "  overflow: hidden;\n",
              "  text-align: left;\n",
              "  /* unfitted */\n",
              "  background-color: var(--sklearn-color-unfitted-level-0);\n",
              "}\n",
              "\n",
              "#sk-container-id-4 div.sk-toggleable__content.fitted {\n",
              "  /* fitted */\n",
              "  background-color: var(--sklearn-color-fitted-level-0);\n",
              "}\n",
              "\n",
              "#sk-container-id-4 div.sk-toggleable__content pre {\n",
              "  margin: 0.2em;\n",
              "  border-radius: 0.25em;\n",
              "  color: var(--sklearn-color-text);\n",
              "  /* unfitted */\n",
              "  background-color: var(--sklearn-color-unfitted-level-0);\n",
              "}\n",
              "\n",
              "#sk-container-id-4 div.sk-toggleable__content.fitted pre {\n",
              "  /* unfitted */\n",
              "  background-color: var(--sklearn-color-fitted-level-0);\n",
              "}\n",
              "\n",
              "#sk-container-id-4 input.sk-toggleable__control:checked~div.sk-toggleable__content {\n",
              "  /* Expand drop-down */\n",
              "  max-height: 200px;\n",
              "  max-width: 100%;\n",
              "  overflow: auto;\n",
              "}\n",
              "\n",
              "#sk-container-id-4 input.sk-toggleable__control:checked~label.sk-toggleable__label-arrow:before {\n",
              "  content: \"▾\";\n",
              "}\n",
              "\n",
              "/* Pipeline/ColumnTransformer-specific style */\n",
              "\n",
              "#sk-container-id-4 div.sk-label input.sk-toggleable__control:checked~label.sk-toggleable__label {\n",
              "  color: var(--sklearn-color-text);\n",
              "  background-color: var(--sklearn-color-unfitted-level-2);\n",
              "}\n",
              "\n",
              "#sk-container-id-4 div.sk-label.fitted input.sk-toggleable__control:checked~label.sk-toggleable__label {\n",
              "  background-color: var(--sklearn-color-fitted-level-2);\n",
              "}\n",
              "\n",
              "/* Estimator-specific style */\n",
              "\n",
              "/* Colorize estimator box */\n",
              "#sk-container-id-4 div.sk-estimator input.sk-toggleable__control:checked~label.sk-toggleable__label {\n",
              "  /* unfitted */\n",
              "  background-color: var(--sklearn-color-unfitted-level-2);\n",
              "}\n",
              "\n",
              "#sk-container-id-4 div.sk-estimator.fitted input.sk-toggleable__control:checked~label.sk-toggleable__label {\n",
              "  /* fitted */\n",
              "  background-color: var(--sklearn-color-fitted-level-2);\n",
              "}\n",
              "\n",
              "#sk-container-id-4 div.sk-label label.sk-toggleable__label,\n",
              "#sk-container-id-4 div.sk-label label {\n",
              "  /* The background is the default theme color */\n",
              "  color: var(--sklearn-color-text-on-default-background);\n",
              "}\n",
              "\n",
              "/* On hover, darken the color of the background */\n",
              "#sk-container-id-4 div.sk-label:hover label.sk-toggleable__label {\n",
              "  color: var(--sklearn-color-text);\n",
              "  background-color: var(--sklearn-color-unfitted-level-2);\n",
              "}\n",
              "\n",
              "/* Label box, darken color on hover, fitted */\n",
              "#sk-container-id-4 div.sk-label.fitted:hover label.sk-toggleable__label.fitted {\n",
              "  color: var(--sklearn-color-text);\n",
              "  background-color: var(--sklearn-color-fitted-level-2);\n",
              "}\n",
              "\n",
              "/* Estimator label */\n",
              "\n",
              "#sk-container-id-4 div.sk-label label {\n",
              "  font-family: monospace;\n",
              "  font-weight: bold;\n",
              "  display: inline-block;\n",
              "  line-height: 1.2em;\n",
              "}\n",
              "\n",
              "#sk-container-id-4 div.sk-label-container {\n",
              "  text-align: center;\n",
              "}\n",
              "\n",
              "/* Estimator-specific */\n",
              "#sk-container-id-4 div.sk-estimator {\n",
              "  font-family: monospace;\n",
              "  border: 1px dotted var(--sklearn-color-border-box);\n",
              "  border-radius: 0.25em;\n",
              "  box-sizing: border-box;\n",
              "  margin-bottom: 0.5em;\n",
              "  /* unfitted */\n",
              "  background-color: var(--sklearn-color-unfitted-level-0);\n",
              "}\n",
              "\n",
              "#sk-container-id-4 div.sk-estimator.fitted {\n",
              "  /* fitted */\n",
              "  background-color: var(--sklearn-color-fitted-level-0);\n",
              "}\n",
              "\n",
              "/* on hover */\n",
              "#sk-container-id-4 div.sk-estimator:hover {\n",
              "  /* unfitted */\n",
              "  background-color: var(--sklearn-color-unfitted-level-2);\n",
              "}\n",
              "\n",
              "#sk-container-id-4 div.sk-estimator.fitted:hover {\n",
              "  /* fitted */\n",
              "  background-color: var(--sklearn-color-fitted-level-2);\n",
              "}\n",
              "\n",
              "/* Specification for estimator info (e.g. \"i\" and \"?\") */\n",
              "\n",
              "/* Common style for \"i\" and \"?\" */\n",
              "\n",
              ".sk-estimator-doc-link,\n",
              "a:link.sk-estimator-doc-link,\n",
              "a:visited.sk-estimator-doc-link {\n",
              "  float: right;\n",
              "  font-size: smaller;\n",
              "  line-height: 1em;\n",
              "  font-family: monospace;\n",
              "  background-color: var(--sklearn-color-background);\n",
              "  border-radius: 1em;\n",
              "  height: 1em;\n",
              "  width: 1em;\n",
              "  text-decoration: none !important;\n",
              "  margin-left: 1ex;\n",
              "  /* unfitted */\n",
              "  border: var(--sklearn-color-unfitted-level-1) 1pt solid;\n",
              "  color: var(--sklearn-color-unfitted-level-1);\n",
              "}\n",
              "\n",
              ".sk-estimator-doc-link.fitted,\n",
              "a:link.sk-estimator-doc-link.fitted,\n",
              "a:visited.sk-estimator-doc-link.fitted {\n",
              "  /* fitted */\n",
              "  border: var(--sklearn-color-fitted-level-1) 1pt solid;\n",
              "  color: var(--sklearn-color-fitted-level-1);\n",
              "}\n",
              "\n",
              "/* On hover */\n",
              "div.sk-estimator:hover .sk-estimator-doc-link:hover,\n",
              ".sk-estimator-doc-link:hover,\n",
              "div.sk-label-container:hover .sk-estimator-doc-link:hover,\n",
              ".sk-estimator-doc-link:hover {\n",
              "  /* unfitted */\n",
              "  background-color: var(--sklearn-color-unfitted-level-3);\n",
              "  color: var(--sklearn-color-background);\n",
              "  text-decoration: none;\n",
              "}\n",
              "\n",
              "div.sk-estimator.fitted:hover .sk-estimator-doc-link.fitted:hover,\n",
              ".sk-estimator-doc-link.fitted:hover,\n",
              "div.sk-label-container:hover .sk-estimator-doc-link.fitted:hover,\n",
              ".sk-estimator-doc-link.fitted:hover {\n",
              "  /* fitted */\n",
              "  background-color: var(--sklearn-color-fitted-level-3);\n",
              "  color: var(--sklearn-color-background);\n",
              "  text-decoration: none;\n",
              "}\n",
              "\n",
              "/* Span, style for the box shown on hovering the info icon */\n",
              ".sk-estimator-doc-link span {\n",
              "  display: none;\n",
              "  z-index: 9999;\n",
              "  position: relative;\n",
              "  font-weight: normal;\n",
              "  right: .2ex;\n",
              "  padding: .5ex;\n",
              "  margin: .5ex;\n",
              "  width: min-content;\n",
              "  min-width: 20ex;\n",
              "  max-width: 50ex;\n",
              "  color: var(--sklearn-color-text);\n",
              "  box-shadow: 2pt 2pt 4pt #999;\n",
              "  /* unfitted */\n",
              "  background: var(--sklearn-color-unfitted-level-0);\n",
              "  border: .5pt solid var(--sklearn-color-unfitted-level-3);\n",
              "}\n",
              "\n",
              ".sk-estimator-doc-link.fitted span {\n",
              "  /* fitted */\n",
              "  background: var(--sklearn-color-fitted-level-0);\n",
              "  border: var(--sklearn-color-fitted-level-3);\n",
              "}\n",
              "\n",
              ".sk-estimator-doc-link:hover span {\n",
              "  display: block;\n",
              "}\n",
              "\n",
              "/* \"?\"-specific style due to the `<a>` HTML tag */\n",
              "\n",
              "#sk-container-id-4 a.estimator_doc_link {\n",
              "  float: right;\n",
              "  font-size: 1rem;\n",
              "  line-height: 1em;\n",
              "  font-family: monospace;\n",
              "  background-color: var(--sklearn-color-background);\n",
              "  border-radius: 1rem;\n",
              "  height: 1rem;\n",
              "  width: 1rem;\n",
              "  text-decoration: none;\n",
              "  /* unfitted */\n",
              "  color: var(--sklearn-color-unfitted-level-1);\n",
              "  border: var(--sklearn-color-unfitted-level-1) 1pt solid;\n",
              "}\n",
              "\n",
              "#sk-container-id-4 a.estimator_doc_link.fitted {\n",
              "  /* fitted */\n",
              "  border: var(--sklearn-color-fitted-level-1) 1pt solid;\n",
              "  color: var(--sklearn-color-fitted-level-1);\n",
              "}\n",
              "\n",
              "/* On hover */\n",
              "#sk-container-id-4 a.estimator_doc_link:hover {\n",
              "  /* unfitted */\n",
              "  background-color: var(--sklearn-color-unfitted-level-3);\n",
              "  color: var(--sklearn-color-background);\n",
              "  text-decoration: none;\n",
              "}\n",
              "\n",
              "#sk-container-id-4 a.estimator_doc_link.fitted:hover {\n",
              "  /* fitted */\n",
              "  background-color: var(--sklearn-color-fitted-level-3);\n",
              "}\n",
              "</style><div id=\"sk-container-id-4\" class=\"sk-top-container\"><div class=\"sk-text-repr-fallback\"><pre>MLPClassifier(random_state=2)</pre><b>In a Jupyter environment, please rerun this cell to show the HTML representation or trust the notebook. <br />On GitHub, the HTML representation is unable to render, please try loading this page with nbviewer.org.</b></div><div class=\"sk-container\" hidden><div class=\"sk-item\"><div class=\"sk-estimator fitted sk-toggleable\"><input class=\"sk-toggleable__control sk-hidden--visually\" id=\"sk-estimator-id-4\" type=\"checkbox\" checked><label for=\"sk-estimator-id-4\" class=\"sk-toggleable__label fitted sk-toggleable__label-arrow fitted\">&nbsp;&nbsp;MLPClassifier<a class=\"sk-estimator-doc-link fitted\" rel=\"noreferrer\" target=\"_blank\" href=\"https://scikit-learn.org/1.5/modules/generated/sklearn.neural_network.MLPClassifier.html\">?<span>Documentation for MLPClassifier</span></a><span class=\"sk-estimator-doc-link fitted\">i<span>Fitted</span></span></label><div class=\"sk-toggleable__content fitted\"><pre>MLPClassifier(random_state=2)</pre></div> </div></div></div></div>"
            ],
            "text/plain": [
              "MLPClassifier(random_state=2)"
            ]
          },
          "execution_count": 123,
          "metadata": {},
          "output_type": "execute_result"
        }
      ],
      "source": [
        "# Define the parameter grid\n",
        "param_grid = {\n",
        "    'hidden_layer_sizes': [(50,), (100,), (50, 50), (64, 64), (100, 100)],\n",
        "    'activation': ['tanh', 'relu'],\n",
        "    'solver': ['sgd', 'adam'],\n",
        "    'alpha': [0.0001, 0.001,0.01, 0.05],\n",
        "    'learning_rate': ['constant','adaptive'],\n",
        "    'max_iter': [ 500, 700, 1000]\n",
        "}\n",
        "\n",
        "# Use the threading backend to avoid parallel processing issues\n",
        "from sklearn.utils import parallel_backend\n",
        "\n",
        "#with parallel_backend('threading'):\n",
        "mlp = MLPClassifier(random_state=2)\n",
        "mlp.fit(X_train, y_train)\n",
        "#mlp_predictions = mlp.predict(X_test)"
      ]
    },
    {
      "cell_type": "code",
      "execution_count": null,
      "metadata": {
        "id": "0zmXYY5S-Gi5"
      },
      "outputs": [],
      "source": [
        "# Meta-model\n",
        "meta_model = mlp"
      ]
    },
    {
      "cell_type": "code",
      "execution_count": null,
      "metadata": {
        "id": "pfr41KZu-P7J"
      },
      "outputs": [],
      "source": [
        "# Stacking classifier\n",
        "stacked_model = StackingClassifier(classifiers=[rf_model, gb_clf],\n",
        "                                   meta_classifier=meta_model)"
      ]
    },
    {
      "cell_type": "code",
      "execution_count": null,
      "metadata": {
        "id": "4dtBVc8m-WLx"
      },
      "outputs": [],
      "source": [
        "# Fit the stacked model\n",
        "stacked_model.fit(X_train, y_train)\n",
        "# Predictions on test data\n",
        "stacked_pred = stacked_model.predict(X_test)"
      ]
    },
    {
      "cell_type": "markdown",
      "metadata": {
        "id": "XzB5V-2kIMpT"
      },
      "source": [
        "# **VALIDATION**"
      ]
    },
    {
      "cell_type": "code",
      "execution_count": null,
      "metadata": {
        "id": "99thlkOsIPvS"
      },
      "outputs": [],
      "source": [
        "# Load the telemetry validation data\n",
        "validation_data = pd.read_csv('/content/telemetry_for_operations_validation.csv')"
      ]
    },
    {
      "cell_type": "code",
      "execution_count": null,
      "metadata": {
        "colab": {
          "base_uri": "https://localhost:8080/"
        },
        "id": "EQWMYr24ITP5",
        "outputId": "e7b273eb-c26f-4165-b38a-5354b30a98b6"
      },
      "outputs": [
        {
          "name": "stdout",
          "output_type": "stream",
          "text": [
            "<class 'pandas.core.frame.DataFrame'>\n",
            "RangeIndex: 260111 entries, 0 to 260110\n",
            "Data columns (total 12 columns):\n",
            " #   Column             Non-Null Count   Dtype  \n",
            "---  ------             --------------   -----  \n",
            " 0   create_dt          260111 non-null  object \n",
            " 1   mdm_object_name    260111 non-null  int64  \n",
            " 2   mdm_model_id       260111 non-null  int64  \n",
            " 3   lon                260111 non-null  float64\n",
            " 4   lat                260111 non-null  float64\n",
            " 5   alt                260111 non-null  int64  \n",
            " 6   speed_gps          260111 non-null  float64\n",
            " 7   direction          260111 non-null  float64\n",
            " 8   accel_forward_nn   260111 non-null  float64\n",
            " 9   accel_braking_nn   260111 non-null  float64\n",
            " 10  accel_angular_nn   260111 non-null  float64\n",
            " 11  accel_vertical_nn  260111 non-null  float64\n",
            "dtypes: float64(8), int64(3), object(1)\n",
            "memory usage: 23.8+ MB\n"
          ]
        }
      ],
      "source": [
        "validation_data.info()"
      ]
    },
    {
      "cell_type": "code",
      "execution_count": null,
      "metadata": {
        "colab": {
          "base_uri": "https://localhost:8080/"
        },
        "id": "kOjs1nbwjXlq",
        "outputId": "306433e4-8427-4063-8949-3dc2a43783c6"
      },
      "outputs": [
        {
          "name": "stdout",
          "output_type": "stream",
          "text": [
            "0\n"
          ]
        }
      ],
      "source": [
        "# 6. Check for duplicates\n",
        "print(validation_data.duplicated().sum())"
      ]
    },
    {
      "cell_type": "code",
      "execution_count": null,
      "metadata": {
        "colab": {
          "base_uri": "https://localhost:8080/"
        },
        "id": "zZCCj8wK9JJH",
        "outputId": "27e722fc-5ce8-47e0-c528-fce6fa55fe37"
      },
      "outputs": [
        {
          "data": {
            "text/plain": [
              "Index(['create_dt', 'mdm_object_name', 'mdm_model_id', 'lon', 'lat', 'alt',\n",
              "       'speed_gps', 'direction', 'accel_forward_nn', 'accel_braking_nn',\n",
              "       'accel_angular_nn', 'accel_vertical_nn'],\n",
              "      dtype='object')"
            ]
          },
          "execution_count": 114,
          "metadata": {},
          "output_type": "execute_result"
        }
      ],
      "source": [
        "validation_data.columns"
      ]
    },
    {
      "cell_type": "code",
      "execution_count": null,
      "metadata": {
        "id": "5bErZMTiQEv6"
      },
      "outputs": [],
      "source": [
        "# Step 2: Convert 'create_dt' to datetime if it's not already\n",
        "validation_data['create_dt_time'] = pd.to_datetime(validation_data['create_dt'], errors='coerce')"
      ]
    },
    {
      "cell_type": "code",
      "execution_count": null,
      "metadata": {
        "id": "njvcSi90NgiN"
      },
      "outputs": [],
      "source": [
        "validation_data['create_hour'] = validation_data['create_dt_time'].dt.hour\n",
        "validation_data['create_day'] = validation_data['create_dt_time'].dt.dayofweek"
      ]
    },
    {
      "cell_type": "code",
      "execution_count": null,
      "metadata": {
        "id": "_nS2LLN4LKge"
      },
      "outputs": [],
      "source": [
        "# Select the same features used during training\n",
        "X_validation = validation_data[['mdm_object_name', 'mdm_model_id', 'lon', 'lat', 'alt', 'speed_gps','direction','accel_forward_nn',\n",
        "                          'accel_braking_nn','accel_angular_nn','accel_vertical_nn']]"
      ]
    },
    {
      "cell_type": "code",
      "execution_count": null,
      "metadata": {
        "id": "Mguu5y8SMN-_"
      },
      "outputs": [],
      "source": [
        "# Predict the operation_kind_id\n",
        "y_pred_validation = mlp.predict(X_validation)"
      ]
    },
    {
      "cell_type": "code",
      "execution_count": null,
      "metadata": {
        "colab": {
          "base_uri": "https://localhost:8080/"
        },
        "id": "sxsfO00WL1wk",
        "outputId": "60f38657-51c3-4b41-fb26-4a5f8795dc70"
      },
      "outputs": [
        {
          "name": "stdout",
          "output_type": "stream",
          "text": [
            "[0 1 2 3 5]\n"
          ]
        }
      ],
      "source": [
        "#unique values in y_pred_validation\n",
        "unique_values = np.unique(y_pred_validation)\n",
        "print(unique_values)"
      ]
    },
    {
      "cell_type": "code",
      "execution_count": null,
      "metadata": {
        "id": "_JAaCwQ0L-H7"
      },
      "outputs": [],
      "source": [
        "# Remap the predictions if needed\n",
        "y_pred_validation = np.where(y_pred_validation == 4, 5, y_pred_validation)"
      ]
    },
    {
      "cell_type": "code",
      "execution_count": null,
      "metadata": {
        "id": "4veG5CzcQuBs"
      },
      "outputs": [],
      "source": [
        "# Add the predictions to the DataFrame\n",
        "validation_data['operation_kind_id'] = y_pred_validation"
      ]
    },
    {
      "cell_type": "code",
      "execution_count": null,
      "metadata": {
        "colab": {
          "base_uri": "https://localhost:8080/"
        },
        "id": "ObFl2q5YRoeA",
        "outputId": "0662ef58-bfbc-4e7d-f0ec-c70ad735e27c"
      },
      "outputs": [
        {
          "name": "stdout",
          "output_type": "stream",
          "text": [
            "<class 'pandas.core.frame.DataFrame'>\n",
            "RangeIndex: 260111 entries, 0 to 260110\n",
            "Data columns (total 14 columns):\n",
            " #   Column             Non-Null Count   Dtype         \n",
            "---  ------             --------------   -----         \n",
            " 0   create_dt          260111 non-null  object        \n",
            " 1   mdm_object_name    260111 non-null  int64         \n",
            " 2   mdm_model_id       260111 non-null  int64         \n",
            " 3   lon                260111 non-null  float64       \n",
            " 4   lat                260111 non-null  float64       \n",
            " 5   alt                260111 non-null  int64         \n",
            " 6   speed_gps          260111 non-null  float64       \n",
            " 7   direction          260111 non-null  float64       \n",
            " 8   accel_forward_nn   260111 non-null  float64       \n",
            " 9   accel_braking_nn   260111 non-null  float64       \n",
            " 10  accel_angular_nn   260111 non-null  float64       \n",
            " 11  accel_vertical_nn  260111 non-null  float64       \n",
            " 12  create_dt_time     260107 non-null  datetime64[ns]\n",
            " 13  operation_kind_id  260111 non-null  int64         \n",
            "dtypes: datetime64[ns](1), float64(8), int64(4), object(1)\n",
            "memory usage: 27.8+ MB\n"
          ]
        }
      ],
      "source": [
        "validation_data.info()"
      ]
    },
    {
      "cell_type": "code",
      "execution_count": null,
      "metadata": {
        "colab": {
          "base_uri": "https://localhost:8080/",
          "height": 272
        },
        "id": "nvOWRzltRFZA",
        "outputId": "65f45d0d-e3c2-4fd1-e2df-a4a66b75aa1a"
      },
      "outputs": [
        {
          "data": {
            "text/html": [
              "<div>\n",
              "<style scoped>\n",
              "    .dataframe tbody tr th:only-of-type {\n",
              "        vertical-align: middle;\n",
              "    }\n",
              "\n",
              "    .dataframe tbody tr th {\n",
              "        vertical-align: top;\n",
              "    }\n",
              "\n",
              "    .dataframe thead th {\n",
              "        text-align: right;\n",
              "    }\n",
              "</style>\n",
              "<table border=\"1\" class=\"dataframe\">\n",
              "  <thead>\n",
              "    <tr style=\"text-align: right;\">\n",
              "      <th></th>\n",
              "      <th>count</th>\n",
              "    </tr>\n",
              "    <tr>\n",
              "      <th>operation_kind_id</th>\n",
              "      <th></th>\n",
              "    </tr>\n",
              "  </thead>\n",
              "  <tbody>\n",
              "    <tr>\n",
              "      <th>2</th>\n",
              "      <td>115294</td>\n",
              "    </tr>\n",
              "    <tr>\n",
              "      <th>5</th>\n",
              "      <td>74343</td>\n",
              "    </tr>\n",
              "    <tr>\n",
              "      <th>0</th>\n",
              "      <td>61661</td>\n",
              "    </tr>\n",
              "    <tr>\n",
              "      <th>1</th>\n",
              "      <td>6620</td>\n",
              "    </tr>\n",
              "    <tr>\n",
              "      <th>3</th>\n",
              "      <td>2193</td>\n",
              "    </tr>\n",
              "  </tbody>\n",
              "</table>\n",
              "</div><br><label><b>dtype:</b> int64</label>"
            ],
            "text/plain": [
              "operation_kind_id\n",
              "2    115294\n",
              "5     74343\n",
              "0     61661\n",
              "1      6620\n",
              "3      2193\n",
              "Name: count, dtype: int64"
            ]
          },
          "execution_count": 120,
          "metadata": {},
          "output_type": "execute_result"
        }
      ],
      "source": [
        "validation_data['operation_kind_id'].value_counts()"
      ]
    },
    {
      "cell_type": "code",
      "execution_count": null,
      "metadata": {
        "id": "83r0vrdlRgBP"
      },
      "outputs": [],
      "source": [
        "# Step 8: Create the output DataFrame with the desired columns\n",
        "output_data = validation_data[['create_dt', 'mdm_object_name', 'operation_kind_id']]\n",
        "\n",
        "# Step 9: Save the output to a CSV file\n",
        "output_data.to_csv('operation_kind_predictions_mlp6.csv', index=False, lineterminator='\\r\\n')"
      ]
    },
    {
      "cell_type": "markdown",
      "metadata": {
        "id": "0RrY2Zpw8Cbc"
      },
      "source": [
        "# **TIME SERIES**"
      ]
    },
    {
      "cell_type": "code",
      "execution_count": null,
      "metadata": {
        "id": "_8whb2vFqJET"
      },
      "outputs": [],
      "source": [
        "from statsmodels.tsa.arima.model import ARIMA"
      ]
    },
    {
      "cell_type": "code",
      "execution_count": null,
      "metadata": {
        "id": "8BQq8WmJp_J5"
      },
      "outputs": [],
      "source": [
        "data = merged_data"
      ]
    },
    {
      "cell_type": "code",
      "execution_count": null,
      "metadata": {
        "id": "CFf3MC7TplED"
      },
      "outputs": [],
      "source": [
        "data.set_index('create_dt', inplace=True)"
      ]
    },
    {
      "cell_type": "code",
      "execution_count": null,
      "metadata": {
        "colab": {
          "base_uri": "https://localhost:8080/"
        },
        "id": "Otp5LdtqqDxS",
        "outputId": "dc5f5f50-7eb5-491b-cb8d-978273f84793"
      },
      "outputs": [
        {
          "name": "stderr",
          "output_type": "stream",
          "text": [
            "C:\\ProgramData\\anaconda3\\Lib\\site-packages\\statsmodels\\tsa\\base\\tsa_model.py:473: ValueWarning: A date index has been provided, but it has no associated frequency information and so will be ignored when e.g. forecasting.\n",
            "  self._init_dates(dates, freq)\n",
            "C:\\ProgramData\\anaconda3\\Lib\\site-packages\\statsmodels\\tsa\\base\\tsa_model.py:473: ValueWarning: A date index has been provided, but it is not monotonic and so will be ignored when e.g. forecasting.\n",
            "  self._init_dates(dates, freq)\n",
            "C:\\ProgramData\\anaconda3\\Lib\\site-packages\\statsmodels\\tsa\\base\\tsa_model.py:473: ValueWarning: A date index has been provided, but it has no associated frequency information and so will be ignored when e.g. forecasting.\n",
            "  self._init_dates(dates, freq)\n",
            "C:\\ProgramData\\anaconda3\\Lib\\site-packages\\statsmodels\\tsa\\base\\tsa_model.py:473: ValueWarning: A date index has been provided, but it is not monotonic and so will be ignored when e.g. forecasting.\n",
            "  self._init_dates(dates, freq)\n",
            "C:\\ProgramData\\anaconda3\\Lib\\site-packages\\statsmodels\\tsa\\base\\tsa_model.py:473: ValueWarning: A date index has been provided, but it has no associated frequency information and so will be ignored when e.g. forecasting.\n",
            "  self._init_dates(dates, freq)\n",
            "C:\\ProgramData\\anaconda3\\Lib\\site-packages\\statsmodels\\tsa\\base\\tsa_model.py:473: ValueWarning: A date index has been provided, but it is not monotonic and so will be ignored when e.g. forecasting.\n",
            "  self._init_dates(dates, freq)\n"
          ]
        }
      ],
      "source": [
        "# Train ARIMA\n",
        "arima_model = ARIMA(data['operation_kind_id'], order=(1, 1, 1))\n",
        "arima_result = arima_model.fit()"
      ]
    },
    {
      "cell_type": "code",
      "execution_count": null,
      "metadata": {
        "id": "_Oj_R0BRrrYS"
      },
      "outputs": [],
      "source": [
        "# Set create_dt as the index\n",
        "validation_data.set_index('create_dt_time', inplace=True)"
      ]
    },
    {
      "cell_type": "code",
      "execution_count": null,
      "metadata": {
        "colab": {
          "base_uri": "https://localhost:8080/"
        },
        "id": "mZl7CekHqO6M",
        "outputId": "fbd2973d-deaa-49bb-92f7-b13b4512e3f0"
      },
      "outputs": [
        {
          "name": "stderr",
          "output_type": "stream",
          "text": [
            "C:\\ProgramData\\anaconda3\\Lib\\site-packages\\statsmodels\\tsa\\base\\tsa_model.py:836: ValueWarning: No supported index is available. Prediction results will be given with an integer index beginning at `start`.\n",
            "  return get_prediction_index(\n",
            "C:\\ProgramData\\anaconda3\\Lib\\site-packages\\statsmodels\\tsa\\base\\tsa_model.py:836: FutureWarning: No supported index is available. In the next version, calling this method in a model without a supported index will result in an exception.\n",
            "  return get_prediction_index(\n"
          ]
        }
      ],
      "source": [
        "# Forecast the length of your validation set\n",
        "forecast = arima_result.forecast(steps=len(validation_data))\n",
        "\n",
        "# Convert forecasted values to a DataFrame for better handling\n",
        "forecast_index = validation_data.index[:len(forecast)]\n",
        "predictions = pd.DataFrame(forecast, index=forecast_index, columns=['PredictedID'])\n",
        "\n",
        "# Join predictions with the validation data if you want to see them together\n",
        "results = validation_data.join(predictions)\n"
      ]
    },
    {
      "cell_type": "markdown",
      "metadata": {
        "id": "A1tLZY5-eIMx"
      },
      "source": [
        "# **MERGE DATA (CHUNKS)**"
      ]
    },
    {
      "cell_type": "code",
      "execution_count": null,
      "metadata": {
        "id": "2_6iY0aHeH_7"
      },
      "outputs": [],
      "source": [
        "# Sort both DataFrames by mdm_object_name and time columns\n",
        "telemetry_data = telemetry_data.sort_values(['mdm_object_name', 'create_dt'])\n",
        "operational_labels = operational_labels.sort_values(['mdm_object_name', 'start_time'])"
      ]
    },
    {
      "cell_type": "code",
      "execution_count": null,
      "metadata": {
        "id": "F01oNCFyedBC"
      },
      "outputs": [],
      "source": [
        "chunk_size = 1000"
      ]
    },
    {
      "cell_type": "code",
      "execution_count": null,
      "metadata": {
        "id": "2k2TGZ3leiy6"
      },
      "outputs": [],
      "source": [
        "# Initialize a list to store the results\n",
        "result_list = []"
      ]
    },
    {
      "cell_type": "code",
      "execution_count": null,
      "metadata": {
        "colab": {
          "base_uri": "https://localhost:8080/"
        },
        "id": "TLp7BoJIfHX8",
        "outputId": "2ea5ebbb-8011-4231-8e92-ff6db771b752"
      },
      "outputs": [
        {
          "name": "stdout",
          "output_type": "stream",
          "text": [
            "501172\n"
          ]
        }
      ],
      "source": [
        "l = len(telemetry_data)\n",
        "print(l)"
      ]
    },
    {
      "cell_type": "code",
      "execution_count": null,
      "metadata": {
        "colab": {
          "base_uri": "https://localhost:8080/"
        },
        "collapsed": true,
        "id": "VlkZLPO3epRJ",
        "outputId": "00ee5285-207c-4966-b3dc-be98687425bb"
      },
      "outputs": [
        {
          "name": "stdout",
          "output_type": "stream",
          "text": [
            "Processed chunk 1 / 502\n",
            "Processed chunk 2 / 502\n",
            "Processed chunk 3 / 502\n",
            "Processed chunk 4 / 502\n",
            "Processed chunk 5 / 502\n",
            "Processed chunk 6 / 502\n",
            "Processed chunk 7 / 502\n",
            "Processed chunk 8 / 502\n",
            "Processed chunk 9 / 502\n",
            "Processed chunk 10 / 502\n",
            "Processed chunk 11 / 502\n",
            "Processed chunk 12 / 502\n",
            "Processed chunk 13 / 502\n",
            "Processed chunk 14 / 502\n",
            "Processed chunk 15 / 502\n",
            "Processed chunk 16 / 502\n",
            "Processed chunk 17 / 502\n",
            "Processed chunk 18 / 502\n",
            "Processed chunk 19 / 502\n",
            "Processed chunk 20 / 502\n",
            "Processed chunk 21 / 502\n",
            "Processed chunk 22 / 502\n",
            "Processed chunk 23 / 502\n",
            "Processed chunk 24 / 502\n",
            "Processed chunk 25 / 502\n",
            "Processed chunk 26 / 502\n",
            "Processed chunk 27 / 502\n",
            "Processed chunk 28 / 502\n",
            "Processed chunk 29 / 502\n",
            "Processed chunk 30 / 502\n",
            "Processed chunk 31 / 502\n",
            "Processed chunk 32 / 502\n",
            "Processed chunk 33 / 502\n",
            "Processed chunk 34 / 502\n",
            "Processed chunk 35 / 502\n",
            "Processed chunk 36 / 502\n",
            "Processed chunk 37 / 502\n",
            "Processed chunk 38 / 502\n",
            "Processed chunk 39 / 502\n",
            "Processed chunk 40 / 502\n",
            "Processed chunk 41 / 502\n",
            "Processed chunk 42 / 502\n",
            "Processed chunk 43 / 502\n",
            "Processed chunk 44 / 502\n",
            "Processed chunk 45 / 502\n",
            "Processed chunk 46 / 502\n",
            "Processed chunk 47 / 502\n",
            "Processed chunk 48 / 502\n",
            "Processed chunk 49 / 502\n",
            "Processed chunk 50 / 502\n",
            "Processed chunk 51 / 502\n",
            "Processed chunk 52 / 502\n",
            "Processed chunk 53 / 502\n",
            "Processed chunk 54 / 502\n",
            "Processed chunk 55 / 502\n",
            "Processed chunk 56 / 502\n",
            "Processed chunk 57 / 502\n",
            "Processed chunk 58 / 502\n",
            "Processed chunk 59 / 502\n",
            "Processed chunk 60 / 502\n",
            "Processed chunk 61 / 502\n",
            "Processed chunk 62 / 502\n",
            "Processed chunk 63 / 502\n",
            "Processed chunk 64 / 502\n",
            "Processed chunk 65 / 502\n",
            "Processed chunk 66 / 502\n",
            "Processed chunk 67 / 502\n",
            "Processed chunk 68 / 502\n",
            "Processed chunk 69 / 502\n",
            "Processed chunk 70 / 502\n",
            "Processed chunk 71 / 502\n",
            "Processed chunk 72 / 502\n",
            "Processed chunk 73 / 502\n",
            "Processed chunk 74 / 502\n",
            "Processed chunk 75 / 502\n",
            "Processed chunk 76 / 502\n",
            "Processed chunk 77 / 502\n",
            "Processed chunk 78 / 502\n",
            "Processed chunk 79 / 502\n",
            "Processed chunk 80 / 502\n",
            "Processed chunk 81 / 502\n",
            "Processed chunk 82 / 502\n",
            "Processed chunk 83 / 502\n",
            "Processed chunk 84 / 502\n",
            "Processed chunk 85 / 502\n",
            "Processed chunk 86 / 502\n",
            "Processed chunk 87 / 502\n",
            "Processed chunk 88 / 502\n",
            "Processed chunk 89 / 502\n",
            "Processed chunk 90 / 502\n",
            "Processed chunk 91 / 502\n",
            "Processed chunk 92 / 502\n",
            "Processed chunk 93 / 502\n",
            "Processed chunk 94 / 502\n",
            "Processed chunk 95 / 502\n",
            "Processed chunk 96 / 502\n",
            "Processed chunk 97 / 502\n",
            "Processed chunk 98 / 502\n",
            "Processed chunk 99 / 502\n",
            "Processed chunk 100 / 502\n",
            "Processed chunk 101 / 502\n",
            "Processed chunk 102 / 502\n",
            "Processed chunk 103 / 502\n",
            "Processed chunk 104 / 502\n",
            "Processed chunk 105 / 502\n",
            "Processed chunk 106 / 502\n",
            "Processed chunk 107 / 502\n",
            "Processed chunk 108 / 502\n",
            "Processed chunk 109 / 502\n",
            "Processed chunk 110 / 502\n",
            "Processed chunk 111 / 502\n",
            "Processed chunk 112 / 502\n",
            "Processed chunk 113 / 502\n",
            "Processed chunk 114 / 502\n",
            "Processed chunk 115 / 502\n",
            "Processed chunk 116 / 502\n",
            "Processed chunk 117 / 502\n",
            "Processed chunk 118 / 502\n",
            "Processed chunk 119 / 502\n",
            "Processed chunk 120 / 502\n",
            "Processed chunk 121 / 502\n",
            "Processed chunk 122 / 502\n",
            "Processed chunk 123 / 502\n",
            "Processed chunk 124 / 502\n",
            "Processed chunk 125 / 502\n",
            "Processed chunk 126 / 502\n",
            "Processed chunk 127 / 502\n",
            "Processed chunk 128 / 502\n",
            "Processed chunk 129 / 502\n",
            "Processed chunk 130 / 502\n",
            "Processed chunk 131 / 502\n",
            "Processed chunk 132 / 502\n",
            "Processed chunk 133 / 502\n",
            "Processed chunk 134 / 502\n",
            "Processed chunk 135 / 502\n",
            "Processed chunk 136 / 502\n",
            "Processed chunk 137 / 502\n",
            "Processed chunk 138 / 502\n",
            "Processed chunk 139 / 502\n",
            "Processed chunk 140 / 502\n",
            "Processed chunk 141 / 502\n",
            "Processed chunk 142 / 502\n",
            "Processed chunk 143 / 502\n",
            "Processed chunk 144 / 502\n",
            "Processed chunk 145 / 502\n",
            "Processed chunk 146 / 502\n",
            "Processed chunk 147 / 502\n",
            "Processed chunk 148 / 502\n",
            "Processed chunk 149 / 502\n",
            "Processed chunk 150 / 502\n",
            "Processed chunk 151 / 502\n",
            "Processed chunk 152 / 502\n",
            "Processed chunk 153 / 502\n",
            "Processed chunk 154 / 502\n",
            "Processed chunk 155 / 502\n",
            "Processed chunk 156 / 502\n",
            "Processed chunk 157 / 502\n",
            "Processed chunk 158 / 502\n",
            "Processed chunk 159 / 502\n",
            "Processed chunk 160 / 502\n",
            "Processed chunk 161 / 502\n",
            "Processed chunk 162 / 502\n",
            "Processed chunk 163 / 502\n",
            "Processed chunk 164 / 502\n",
            "Processed chunk 165 / 502\n",
            "Processed chunk 166 / 502\n",
            "Processed chunk 167 / 502\n",
            "Processed chunk 168 / 502\n",
            "Processed chunk 169 / 502\n",
            "Processed chunk 170 / 502\n",
            "Processed chunk 171 / 502\n",
            "Processed chunk 172 / 502\n",
            "Processed chunk 173 / 502\n",
            "Processed chunk 174 / 502\n",
            "Processed chunk 175 / 502\n",
            "Processed chunk 176 / 502\n",
            "Processed chunk 177 / 502\n",
            "Processed chunk 178 / 502\n",
            "Processed chunk 179 / 502\n",
            "Processed chunk 180 / 502\n",
            "Processed chunk 181 / 502\n",
            "Processed chunk 182 / 502\n",
            "Processed chunk 183 / 502\n",
            "Processed chunk 184 / 502\n",
            "Processed chunk 185 / 502\n",
            "Processed chunk 186 / 502\n",
            "Processed chunk 187 / 502\n",
            "Processed chunk 188 / 502\n",
            "Processed chunk 189 / 502\n",
            "Processed chunk 190 / 502\n",
            "Processed chunk 191 / 502\n",
            "Processed chunk 192 / 502\n",
            "Processed chunk 193 / 502\n",
            "Processed chunk 194 / 502\n",
            "Processed chunk 195 / 502\n",
            "Processed chunk 196 / 502\n",
            "Processed chunk 197 / 502\n",
            "Processed chunk 198 / 502\n",
            "Processed chunk 199 / 502\n",
            "Processed chunk 200 / 502\n",
            "Processed chunk 201 / 502\n",
            "Processed chunk 202 / 502\n",
            "Processed chunk 203 / 502\n",
            "Processed chunk 204 / 502\n",
            "Processed chunk 205 / 502\n",
            "Processed chunk 206 / 502\n",
            "Processed chunk 207 / 502\n",
            "Processed chunk 208 / 502\n",
            "Processed chunk 209 / 502\n",
            "Processed chunk 210 / 502\n",
            "Processed chunk 211 / 502\n",
            "Processed chunk 212 / 502\n",
            "Processed chunk 213 / 502\n",
            "Processed chunk 214 / 502\n",
            "Processed chunk 215 / 502\n",
            "Processed chunk 216 / 502\n",
            "Processed chunk 217 / 502\n",
            "Processed chunk 218 / 502\n",
            "Processed chunk 219 / 502\n",
            "Processed chunk 220 / 502\n",
            "Processed chunk 221 / 502\n",
            "Processed chunk 222 / 502\n",
            "Processed chunk 223 / 502\n",
            "Processed chunk 224 / 502\n",
            "Processed chunk 225 / 502\n",
            "Processed chunk 226 / 502\n",
            "Processed chunk 227 / 502\n",
            "Processed chunk 228 / 502\n",
            "Processed chunk 229 / 502\n",
            "Processed chunk 230 / 502\n",
            "Processed chunk 231 / 502\n",
            "Processed chunk 232 / 502\n",
            "Processed chunk 233 / 502\n",
            "Processed chunk 234 / 502\n",
            "Processed chunk 235 / 502\n",
            "Processed chunk 236 / 502\n",
            "Processed chunk 237 / 502\n",
            "Processed chunk 238 / 502\n",
            "Processed chunk 239 / 502\n",
            "Processed chunk 240 / 502\n",
            "Processed chunk 241 / 502\n",
            "Processed chunk 242 / 502\n",
            "Processed chunk 243 / 502\n",
            "Processed chunk 244 / 502\n",
            "Processed chunk 245 / 502\n",
            "Processed chunk 246 / 502\n",
            "Processed chunk 247 / 502\n",
            "Processed chunk 248 / 502\n",
            "Processed chunk 249 / 502\n",
            "Processed chunk 250 / 502\n",
            "Processed chunk 251 / 502\n",
            "Processed chunk 252 / 502\n",
            "Processed chunk 253 / 502\n",
            "Processed chunk 254 / 502\n",
            "Processed chunk 255 / 502\n",
            "Processed chunk 256 / 502\n",
            "Processed chunk 257 / 502\n",
            "Processed chunk 258 / 502\n",
            "Processed chunk 259 / 502\n",
            "Processed chunk 260 / 502\n",
            "Processed chunk 261 / 502\n",
            "Processed chunk 262 / 502\n",
            "Processed chunk 263 / 502\n",
            "Processed chunk 264 / 502\n",
            "Processed chunk 265 / 502\n",
            "Processed chunk 266 / 502\n",
            "Processed chunk 267 / 502\n",
            "Processed chunk 268 / 502\n",
            "Processed chunk 269 / 502\n",
            "Processed chunk 270 / 502\n",
            "Processed chunk 271 / 502\n",
            "Processed chunk 272 / 502\n",
            "Processed chunk 273 / 502\n",
            "Processed chunk 274 / 502\n",
            "Processed chunk 275 / 502\n",
            "Processed chunk 276 / 502\n",
            "Processed chunk 277 / 502\n",
            "Processed chunk 278 / 502\n",
            "Processed chunk 279 / 502\n",
            "Processed chunk 280 / 502\n",
            "Processed chunk 281 / 502\n",
            "Processed chunk 282 / 502\n",
            "Processed chunk 283 / 502\n",
            "Processed chunk 284 / 502\n",
            "Processed chunk 285 / 502\n",
            "Processed chunk 286 / 502\n",
            "Processed chunk 287 / 502\n",
            "Processed chunk 288 / 502\n",
            "Processed chunk 289 / 502\n",
            "Processed chunk 290 / 502\n",
            "Processed chunk 291 / 502\n",
            "Processed chunk 292 / 502\n",
            "Processed chunk 293 / 502\n",
            "Processed chunk 294 / 502\n",
            "Processed chunk 295 / 502\n",
            "Processed chunk 296 / 502\n",
            "Processed chunk 297 / 502\n",
            "Processed chunk 298 / 502\n",
            "Processed chunk 299 / 502\n",
            "Processed chunk 300 / 502\n",
            "Processed chunk 301 / 502\n",
            "Processed chunk 302 / 502\n",
            "Processed chunk 303 / 502\n",
            "Processed chunk 304 / 502\n",
            "Processed chunk 305 / 502\n",
            "Processed chunk 306 / 502\n",
            "Processed chunk 307 / 502\n",
            "Processed chunk 308 / 502\n",
            "Processed chunk 309 / 502\n",
            "Processed chunk 310 / 502\n",
            "Processed chunk 311 / 502\n",
            "Processed chunk 312 / 502\n",
            "Processed chunk 313 / 502\n",
            "Processed chunk 314 / 502\n",
            "Processed chunk 315 / 502\n",
            "Processed chunk 316 / 502\n",
            "Processed chunk 317 / 502\n",
            "Processed chunk 318 / 502\n",
            "Processed chunk 319 / 502\n",
            "Processed chunk 320 / 502\n",
            "Processed chunk 321 / 502\n",
            "Processed chunk 322 / 502\n",
            "Processed chunk 323 / 502\n",
            "Processed chunk 324 / 502\n",
            "Processed chunk 325 / 502\n",
            "Processed chunk 326 / 502\n",
            "Processed chunk 327 / 502\n",
            "Processed chunk 328 / 502\n",
            "Processed chunk 329 / 502\n",
            "Processed chunk 330 / 502\n",
            "Processed chunk 331 / 502\n",
            "Processed chunk 332 / 502\n",
            "Processed chunk 333 / 502\n",
            "Processed chunk 334 / 502\n",
            "Processed chunk 335 / 502\n",
            "Processed chunk 336 / 502\n",
            "Processed chunk 337 / 502\n",
            "Processed chunk 338 / 502\n",
            "Processed chunk 339 / 502\n",
            "Processed chunk 340 / 502\n",
            "Processed chunk 341 / 502\n",
            "Processed chunk 342 / 502\n",
            "Processed chunk 343 / 502\n",
            "Processed chunk 344 / 502\n",
            "Processed chunk 345 / 502\n",
            "Processed chunk 346 / 502\n",
            "Processed chunk 347 / 502\n",
            "Processed chunk 348 / 502\n",
            "Processed chunk 349 / 502\n",
            "Processed chunk 350 / 502\n",
            "Processed chunk 351 / 502\n",
            "Processed chunk 352 / 502\n",
            "Processed chunk 353 / 502\n",
            "Processed chunk 354 / 502\n",
            "Processed chunk 355 / 502\n",
            "Processed chunk 356 / 502\n",
            "Processed chunk 357 / 502\n",
            "Processed chunk 358 / 502\n",
            "Processed chunk 359 / 502\n",
            "Processed chunk 360 / 502\n",
            "Processed chunk 361 / 502\n",
            "Processed chunk 362 / 502\n",
            "Processed chunk 363 / 502\n",
            "Processed chunk 364 / 502\n",
            "Processed chunk 365 / 502\n",
            "Processed chunk 366 / 502\n",
            "Processed chunk 367 / 502\n",
            "Processed chunk 368 / 502\n",
            "Processed chunk 369 / 502\n",
            "Processed chunk 370 / 502\n",
            "Processed chunk 371 / 502\n",
            "Processed chunk 372 / 502\n",
            "Processed chunk 373 / 502\n",
            "Processed chunk 374 / 502\n",
            "Processed chunk 375 / 502\n",
            "Processed chunk 376 / 502\n",
            "Processed chunk 377 / 502\n",
            "Processed chunk 378 / 502\n",
            "Processed chunk 379 / 502\n",
            "Processed chunk 380 / 502\n",
            "Processed chunk 381 / 502\n",
            "Processed chunk 382 / 502\n",
            "Processed chunk 383 / 502\n",
            "Processed chunk 384 / 502\n",
            "Processed chunk 385 / 502\n",
            "Processed chunk 386 / 502\n",
            "Processed chunk 387 / 502\n",
            "Processed chunk 388 / 502\n",
            "Processed chunk 389 / 502\n",
            "Processed chunk 390 / 502\n",
            "Processed chunk 391 / 502\n",
            "Processed chunk 392 / 502\n",
            "Processed chunk 393 / 502\n",
            "Processed chunk 394 / 502\n",
            "Processed chunk 395 / 502\n",
            "Processed chunk 396 / 502\n",
            "Processed chunk 397 / 502\n",
            "Processed chunk 398 / 502\n",
            "Processed chunk 399 / 502\n",
            "Processed chunk 400 / 502\n",
            "Processed chunk 401 / 502\n",
            "Processed chunk 402 / 502\n",
            "Processed chunk 403 / 502\n",
            "Processed chunk 404 / 502\n",
            "Processed chunk 405 / 502\n",
            "Processed chunk 406 / 502\n",
            "Processed chunk 407 / 502\n",
            "Processed chunk 408 / 502\n",
            "Processed chunk 409 / 502\n",
            "Processed chunk 410 / 502\n",
            "Processed chunk 411 / 502\n",
            "Processed chunk 412 / 502\n",
            "Processed chunk 413 / 502\n",
            "Processed chunk 414 / 502\n",
            "Processed chunk 415 / 502\n",
            "Processed chunk 416 / 502\n",
            "Processed chunk 417 / 502\n",
            "Processed chunk 418 / 502\n",
            "Processed chunk 419 / 502\n",
            "Processed chunk 420 / 502\n",
            "Processed chunk 421 / 502\n",
            "Processed chunk 422 / 502\n",
            "Processed chunk 423 / 502\n",
            "Processed chunk 424 / 502\n",
            "Processed chunk 425 / 502\n",
            "Processed chunk 426 / 502\n",
            "Processed chunk 427 / 502\n",
            "Processed chunk 428 / 502\n",
            "Processed chunk 429 / 502\n",
            "Processed chunk 430 / 502\n",
            "Processed chunk 431 / 502\n",
            "Processed chunk 432 / 502\n",
            "Processed chunk 433 / 502\n",
            "Processed chunk 434 / 502\n",
            "Processed chunk 435 / 502\n",
            "Processed chunk 436 / 502\n",
            "Processed chunk 437 / 502\n",
            "Processed chunk 438 / 502\n",
            "Processed chunk 439 / 502\n",
            "Processed chunk 440 / 502\n",
            "Processed chunk 441 / 502\n",
            "Processed chunk 442 / 502\n",
            "Processed chunk 443 / 502\n",
            "Processed chunk 444 / 502\n",
            "Processed chunk 445 / 502\n",
            "Processed chunk 446 / 502\n",
            "Processed chunk 447 / 502\n",
            "Processed chunk 448 / 502\n",
            "Processed chunk 449 / 502\n",
            "Processed chunk 450 / 502\n",
            "Processed chunk 451 / 502\n",
            "Processed chunk 452 / 502\n",
            "Processed chunk 453 / 502\n",
            "Processed chunk 454 / 502\n",
            "Processed chunk 455 / 502\n",
            "Processed chunk 456 / 502\n",
            "Processed chunk 457 / 502\n",
            "Processed chunk 458 / 502\n",
            "Processed chunk 459 / 502\n",
            "Processed chunk 460 / 502\n",
            "Processed chunk 461 / 502\n",
            "Processed chunk 462 / 502\n",
            "Processed chunk 463 / 502\n",
            "Processed chunk 464 / 502\n",
            "Processed chunk 465 / 502\n",
            "Processed chunk 466 / 502\n",
            "Processed chunk 467 / 502\n",
            "Processed chunk 468 / 502\n",
            "Processed chunk 469 / 502\n",
            "Processed chunk 470 / 502\n",
            "Processed chunk 471 / 502\n",
            "Processed chunk 472 / 502\n",
            "Processed chunk 473 / 502\n",
            "Processed chunk 474 / 502\n",
            "Processed chunk 475 / 502\n",
            "Processed chunk 476 / 502\n",
            "Processed chunk 477 / 502\n",
            "Processed chunk 478 / 502\n",
            "Processed chunk 479 / 502\n",
            "Processed chunk 480 / 502\n",
            "Processed chunk 481 / 502\n",
            "Processed chunk 482 / 502\n",
            "Processed chunk 483 / 502\n",
            "Processed chunk 484 / 502\n",
            "Processed chunk 485 / 502\n",
            "Processed chunk 486 / 502\n",
            "Processed chunk 487 / 502\n",
            "Processed chunk 488 / 502\n",
            "Processed chunk 489 / 502\n",
            "Processed chunk 490 / 502\n",
            "Processed chunk 491 / 502\n",
            "Processed chunk 492 / 502\n",
            "Processed chunk 493 / 502\n",
            "Processed chunk 494 / 502\n",
            "Processed chunk 495 / 502\n",
            "Processed chunk 496 / 502\n",
            "Processed chunk 497 / 502\n",
            "Processed chunk 498 / 502\n",
            "Processed chunk 499 / 502\n",
            "Processed chunk 500 / 502\n",
            "Processed chunk 501 / 502\n",
            "Processed chunk 502 / 502\n"
          ]
        }
      ],
      "source": [
        "# Process telemetry_data in chunks\n",
        "for i in range(0, l, chunk_size):\n",
        "    # Extract the current chunk of telemetry_data\n",
        "    chunk = telemetry_data.iloc[i:i + chunk_size]\n",
        "\n",
        "    # Initialize a list to store combined rows for this chunk\n",
        "    merged_rows = []\n",
        "\n",
        "    # Iterate through each row in the chunk\n",
        "    for index, row in chunk.iterrows():\n",
        "        # Filter operations_data based on conditions\n",
        "        filtered_operations = operational_labels[\n",
        "            (operational_labels['mdm_object_name'] == row['mdm_object_name']) &\n",
        "            (row['create_dt'] >= operational_labels['start_time']) &\n",
        "            (row['create_dt'] <= operational_labels['end_time'])\n",
        "        ]\n",
        "\n",
        "        # If there are matches, combine the row with the filtered operations\n",
        "        if not filtered_operations.empty:\n",
        "            for _, op_row in filtered_operations.iterrows():\n",
        "                combined_row = {**row, **op_row}  # Merge the dictionaries\n",
        "                merged_rows.append(combined_row)  # Add to list instead of appending to DataFrame\n",
        "\n",
        "    # Convert the list of combined rows to a DataFrame\n",
        "    merged_chunk = pd.DataFrame(merged_rows)\n",
        "\n",
        "    # Append the merged results from the current chunk to the result list\n",
        "    result_list.append(merged_chunk)\n",
        "\n",
        "    print(f\"Processed chunk {i // chunk_size + 1} / {l // chunk_size + 1}\")\n"
      ]
    },
    {
      "cell_type": "code",
      "execution_count": null,
      "metadata": {
        "id": "wJ0_Sv7XgF70"
      },
      "outputs": [],
      "source": [
        "# Concatenate all chunks into a single DataFrame\n",
        "final_merged_data = pd.concat(result_list, ignore_index=True)\n",
        "\n",
        "# Now you have the fully merged data"
      ]
    },
    {
      "cell_type": "code",
      "execution_count": null,
      "metadata": {
        "colab": {
          "base_uri": "https://localhost:8080/"
        },
        "id": "q-pTptLOlmSp",
        "outputId": "d0639724-ebcc-4b14-b750-7606041bc4d9"
      },
      "outputs": [
        {
          "name": "stdout",
          "output_type": "stream",
          "text": [
            "<class 'pandas.core.frame.DataFrame'>\n",
            "RangeIndex: 496733 entries, 0 to 496732\n",
            "Data columns (total 16 columns):\n",
            " #   Column             Non-Null Count   Dtype         \n",
            "---  ------             --------------   -----         \n",
            " 0   create_dt          496733 non-null  datetime64[ns]\n",
            " 1   mdm_object_name    496733 non-null  int64         \n",
            " 2   mdm_model_id       496733 non-null  int64         \n",
            " 3   lon                496733 non-null  float64       \n",
            " 4   lat                496733 non-null  float64       \n",
            " 5   alt                496733 non-null  int64         \n",
            " 6   speed_gps          496733 non-null  float64       \n",
            " 7   direction          496733 non-null  float64       \n",
            " 8   accel_forward_nn   496733 non-null  float64       \n",
            " 9   accel_braking_nn   496733 non-null  float64       \n",
            " 10  accel_angular_nn   496733 non-null  float64       \n",
            " 11  accel_vertical_nn  496733 non-null  float64       \n",
            " 12  start_time         496733 non-null  datetime64[ns]\n",
            " 13  end_time           496733 non-null  datetime64[ns]\n",
            " 14  operation_kind_id  496733 non-null  int64         \n",
            " 15  name               496733 non-null  object        \n",
            "dtypes: datetime64[ns](3), float64(8), int64(4), object(1)\n",
            "memory usage: 60.6+ MB\n"
          ]
        }
      ],
      "source": [
        "final_merged_data.info()"
      ]
    },
    {
      "cell_type": "code",
      "execution_count": null,
      "metadata": {
        "id": "HhzWmPiHlshq"
      },
      "outputs": [],
      "source": [
        "# convert final_merged_data to csv file\n",
        "final_merged_data.to_csv('final_merged_data.csv', index=False)"
      ]
    },
    {
      "cell_type": "markdown",
      "metadata": {
        "id": "OhOxv9HptY9R"
      },
      "source": [
        "# **LSTM**"
      ]
    },
    {
      "cell_type": "code",
      "execution_count": null,
      "metadata": {
        "id": "MpnTYWrruSho"
      },
      "outputs": [],
      "source": [
        "from tensorflow.keras.models import Sequential\n",
        "from tensorflow.keras.layers import LSTM, Dense, Dropout"
      ]
    },
    {
      "cell_type": "code",
      "execution_count": null,
      "metadata": {
        "id": "dDutFX6GtfKa"
      },
      "outputs": [],
      "source": [
        "# Normalize the operation_kind_id for training\n",
        "scaler = MinMaxScaler(feature_range=(0, 1))\n",
        "train_scaled = scaler.fit_transform(merged_data[['operation_kind_id']])\n",
        "\n",
        "# Create sequences for LSTM\n",
        "def create_sequences(data, time_steps=1):\n",
        "    X, y = [], []\n",
        "    for i in range(len(data) - time_steps):\n",
        "        X.append(data[i:(i + time_steps), 0])\n",
        "        y.append(data[i + time_steps, 0])\n",
        "    return np.array(X), np.array(y)\n",
        "\n",
        "# Set the number of time steps (e.g., 10)\n",
        "time_steps = 10\n",
        "X_train, y_train = create_sequences(train_scaled, time_steps)\n",
        "\n",
        "# Reshape input to be [samples, time steps, features] for LSTM\n",
        "X_train = X_train.reshape((X_train.shape[0], X_train.shape[1], 1))"
      ]
    },
    {
      "cell_type": "code",
      "execution_count": null,
      "metadata": {
        "colab": {
          "base_uri": "https://localhost:8080/"
        },
        "id": "Ei5X5_K7uWvI",
        "outputId": "d351aba0-d603-42ff-96aa-ee410f2c2795"
      },
      "outputs": [
        {
          "name": "stderr",
          "output_type": "stream",
          "text": [
            "C:\\Users\\ekamb\\AppData\\Roaming\\Python\\Python312\\site-packages\\keras\\src\\layers\\rnn\\rnn.py:204: UserWarning: Do not pass an `input_shape`/`input_dim` argument to a layer. When using Sequential models, prefer using an `Input(shape)` object as the first layer in the model instead.\n",
            "  super().__init__(**kwargs)\n"
          ]
        }
      ],
      "source": [
        "# Build LSTM model\n",
        "model = Sequential()\n",
        "model.add(LSTM(50, return_sequences=True, input_shape=(X_train.shape[1], 1)))\n",
        "model.add(Dropout(0.2))\n",
        "model.add(LSTM(50, return_sequences=False))\n",
        "model.add(Dropout(0.2))\n",
        "model.add(Dense(1))  # Output layer\n",
        "\n",
        "# Compile the model\n",
        "model.compile(optimizer='adam', loss='mean_squared_error')"
      ]
    },
    {
      "cell_type": "code",
      "execution_count": null,
      "metadata": {
        "colab": {
          "base_uri": "https://localhost:8080/"
        },
        "id": "mMs0R_PzuZ8p",
        "outputId": "f7eb0739-b2f5-47bc-bcac-5d7cf1bb6c5a"
      },
      "outputs": [
        {
          "name": "stdout",
          "output_type": "stream",
          "text": [
            "Epoch 1/20\n",
            "\u001b[1m15523/15523\u001b[0m \u001b[32m━━━━━━━━━━━━━━━━━━━━\u001b[0m\u001b[37m\u001b[0m \u001b[1m159s\u001b[0m 10ms/step - loss: 0.0041\n",
            "Epoch 2/20\n",
            "\u001b[1m15523/15523\u001b[0m \u001b[32m━━━━━━━━━━━━━━━━━━━━\u001b[0m\u001b[37m\u001b[0m \u001b[1m149s\u001b[0m 10ms/step - loss: 0.0037\n",
            "Epoch 3/20\n",
            "\u001b[1m15523/15523\u001b[0m \u001b[32m━━━━━━━━━━━━━━━━━━━━\u001b[0m\u001b[37m\u001b[0m \u001b[1m196s\u001b[0m 9ms/step - loss: 0.0037\n",
            "Epoch 4/20\n",
            "\u001b[1m15523/15523\u001b[0m \u001b[32m━━━━━━━━━━━━━━━━━━━━\u001b[0m\u001b[37m\u001b[0m \u001b[1m202s\u001b[0m 9ms/step - loss: 0.0037\n",
            "Epoch 5/20\n",
            "\u001b[1m15523/15523\u001b[0m \u001b[32m━━━━━━━━━━━━━━━━━━━━\u001b[0m\u001b[37m\u001b[0m \u001b[1m143s\u001b[0m 9ms/step - loss: 0.0035\n",
            "Epoch 6/20\n",
            "\u001b[1m15523/15523\u001b[0m \u001b[32m━━━━━━━━━━━━━━━━━━━━\u001b[0m\u001b[37m\u001b[0m \u001b[1m202s\u001b[0m 9ms/step - loss: 0.0035\n",
            "Epoch 7/20\n",
            "\u001b[1m15523/15523\u001b[0m \u001b[32m━━━━━━━━━━━━━━━━━━━━\u001b[0m\u001b[37m\u001b[0m \u001b[1m147s\u001b[0m 9ms/step - loss: 0.0034\n",
            "Epoch 8/20\n",
            "\u001b[1m15523/15523\u001b[0m \u001b[32m━━━━━━━━━━━━━━━━━━━━\u001b[0m\u001b[37m\u001b[0m \u001b[1m145s\u001b[0m 9ms/step - loss: 0.0035\n",
            "Epoch 9/20\n",
            "\u001b[1m15523/15523\u001b[0m \u001b[32m━━━━━━━━━━━━━━━━━━━━\u001b[0m\u001b[37m\u001b[0m \u001b[1m146s\u001b[0m 9ms/step - loss: 0.0034\n",
            "Epoch 10/20\n",
            "\u001b[1m15523/15523\u001b[0m \u001b[32m━━━━━━━━━━━━━━━━━━━━\u001b[0m\u001b[37m\u001b[0m \u001b[1m198s\u001b[0m 9ms/step - loss: 0.0036\n",
            "Epoch 11/20\n",
            "\u001b[1m15523/15523\u001b[0m \u001b[32m━━━━━━━━━━━━━━━━━━━━\u001b[0m\u001b[37m\u001b[0m \u001b[1m203s\u001b[0m 9ms/step - loss: 0.0035\n",
            "Epoch 12/20\n",
            "\u001b[1m15523/15523\u001b[0m \u001b[32m━━━━━━━━━━━━━━━━━━━━\u001b[0m\u001b[37m\u001b[0m \u001b[1m201s\u001b[0m 9ms/step - loss: 0.0036\n",
            "Epoch 13/20\n",
            "\u001b[1m15523/15523\u001b[0m \u001b[32m━━━━━━━━━━━━━━━━━━━━\u001b[0m\u001b[37m\u001b[0m \u001b[1m203s\u001b[0m 9ms/step - loss: 0.0036\n",
            "Epoch 14/20\n",
            "\u001b[1m15523/15523\u001b[0m \u001b[32m━━━━━━━━━━━━━━━━━━━━\u001b[0m\u001b[37m\u001b[0m \u001b[1m201s\u001b[0m 9ms/step - loss: 0.0033\n",
            "Epoch 15/20\n",
            "\u001b[1m15523/15523\u001b[0m \u001b[32m━━━━━━━━━━━━━━━━━━━━\u001b[0m\u001b[37m\u001b[0m \u001b[1m201s\u001b[0m 9ms/step - loss: 0.0035\n",
            "Epoch 16/20\n",
            "\u001b[1m15523/15523\u001b[0m \u001b[32m━━━━━━━━━━━━━━━━━━━━\u001b[0m\u001b[37m\u001b[0m \u001b[1m144s\u001b[0m 9ms/step - loss: 0.0035\n",
            "Epoch 17/20\n",
            "\u001b[1m15523/15523\u001b[0m \u001b[32m━━━━━━━━━━━━━━━━━━━━\u001b[0m\u001b[37m\u001b[0m \u001b[1m145s\u001b[0m 9ms/step - loss: 0.0036\n",
            "Epoch 18/20\n",
            "\u001b[1m15523/15523\u001b[0m \u001b[32m━━━━━━━━━━━━━━━━━━━━\u001b[0m\u001b[37m\u001b[0m \u001b[1m201s\u001b[0m 9ms/step - loss: 0.0034\n",
            "Epoch 19/20\n",
            "\u001b[1m15523/15523\u001b[0m \u001b[32m━━━━━━━━━━━━━━━━━━━━\u001b[0m\u001b[37m\u001b[0m \u001b[1m231s\u001b[0m 11ms/step - loss: 0.0035\n",
            "Epoch 20/20\n",
            "\u001b[1m15523/15523\u001b[0m \u001b[32m━━━━━━━━━━━━━━━━━━━━\u001b[0m\u001b[37m\u001b[0m \u001b[1m155s\u001b[0m 10ms/step - loss: 0.0035\n"
          ]
        },
        {
          "data": {
            "text/plain": [
              "<keras.src.callbacks.history.History at 0x19883822bd0>"
            ]
          },
          "execution_count": 119,
          "metadata": {},
          "output_type": "execute_result"
        }
      ],
      "source": [
        "# Fit the model on the training data\n",
        "model.fit(X_train, y_train, epochs=20, batch_size=32)"
      ]
    },
    {
      "cell_type": "code",
      "execution_count": null,
      "metadata": {
        "id": "UqVYaxT1ua6Z"
      },
      "outputs": [],
      "source": [
        "# Normalize relevant features\n",
        "scaler = MinMaxScaler(feature_range=(0, 1))\n",
        "validation_scaled = scaler.fit_transform(validation_data[['mdm_object_name', 'mdm_model_id', 'lon', 'lat', 'alt',\n",
        "       'speed_gps', 'direction', 'accel_forward_nn', 'accel_braking_nn',\n",
        "       'accel_angular_nn', 'accel_vertical_nn']])  # Use appropriate features\n",
        "\n",
        "# Create sequences for validation data\n",
        "def create_sequences(data, time_steps=1):\n",
        "    X = []\n",
        "    for i in range(len(data) - time_steps):\n",
        "        X.append(data[i:(i + time_steps), 0])\n",
        "    return np.array(X)\n",
        "\n",
        "# Set the number of time steps (e.g., 10)\n",
        "time_steps = 10\n",
        "X_validation = create_sequences(validation_scaled, time_steps)\n",
        "\n",
        "# Reshape input to be [samples, time steps, features] for LSTM\n",
        "X_validation = X_validation.reshape((X_validation.shape[0], X_validation.shape[1], 1))"
      ]
    },
    {
      "cell_type": "code",
      "execution_count": null,
      "metadata": {
        "colab": {
          "base_uri": "https://localhost:8080/",
          "height": 401
        },
        "id": "1kt7sFjw98jZ",
        "outputId": "46ec2857-55a0-49fe-fe09-001f91eff141"
      },
      "outputs": [],
      "source": [
        "# Assuming 'model' is your trained LSTM model\n",
        "predictions = model.predict(X_validation)"
      ]
    },
    {
      "cell_type": "code",
      "execution_count": null,
      "metadata": {
        "colab": {
          "base_uri": "https://localhost:8080/",
          "height": 80
        },
        "id": "U6q7DJnB-lNC",
        "outputId": "b8a39519-2049-4d3d-ad07-e17ea23da3fb"
      },
      "outputs": [
        {
          "data": {
            "text/html": [
              "<style>#sk-container-id-1 {\n",
              "  /* Definition of color scheme common for light and dark mode */\n",
              "  --sklearn-color-text: black;\n",
              "  --sklearn-color-line: gray;\n",
              "  /* Definition of color scheme for unfitted estimators */\n",
              "  --sklearn-color-unfitted-level-0: #fff5e6;\n",
              "  --sklearn-color-unfitted-level-1: #f6e4d2;\n",
              "  --sklearn-color-unfitted-level-2: #ffe0b3;\n",
              "  --sklearn-color-unfitted-level-3: chocolate;\n",
              "  /* Definition of color scheme for fitted estimators */\n",
              "  --sklearn-color-fitted-level-0: #f0f8ff;\n",
              "  --sklearn-color-fitted-level-1: #d4ebff;\n",
              "  --sklearn-color-fitted-level-2: #b3dbfd;\n",
              "  --sklearn-color-fitted-level-3: cornflowerblue;\n",
              "\n",
              "  /* Specific color for light theme */\n",
              "  --sklearn-color-text-on-default-background: var(--sg-text-color, var(--theme-code-foreground, var(--jp-content-font-color1, black)));\n",
              "  --sklearn-color-background: var(--sg-background-color, var(--theme-background, var(--jp-layout-color0, white)));\n",
              "  --sklearn-color-border-box: var(--sg-text-color, var(--theme-code-foreground, var(--jp-content-font-color1, black)));\n",
              "  --sklearn-color-icon: #696969;\n",
              "\n",
              "  @media (prefers-color-scheme: dark) {\n",
              "    /* Redefinition of color scheme for dark theme */\n",
              "    --sklearn-color-text-on-default-background: var(--sg-text-color, var(--theme-code-foreground, var(--jp-content-font-color1, white)));\n",
              "    --sklearn-color-background: var(--sg-background-color, var(--theme-background, var(--jp-layout-color0, #111)));\n",
              "    --sklearn-color-border-box: var(--sg-text-color, var(--theme-code-foreground, var(--jp-content-font-color1, white)));\n",
              "    --sklearn-color-icon: #878787;\n",
              "  }\n",
              "}\n",
              "\n",
              "#sk-container-id-1 {\n",
              "  color: var(--sklearn-color-text);\n",
              "}\n",
              "\n",
              "#sk-container-id-1 pre {\n",
              "  padding: 0;\n",
              "}\n",
              "\n",
              "#sk-container-id-1 input.sk-hidden--visually {\n",
              "  border: 0;\n",
              "  clip: rect(1px 1px 1px 1px);\n",
              "  clip: rect(1px, 1px, 1px, 1px);\n",
              "  height: 1px;\n",
              "  margin: -1px;\n",
              "  overflow: hidden;\n",
              "  padding: 0;\n",
              "  position: absolute;\n",
              "  width: 1px;\n",
              "}\n",
              "\n",
              "#sk-container-id-1 div.sk-dashed-wrapped {\n",
              "  border: 1px dashed var(--sklearn-color-line);\n",
              "  margin: 0 0.4em 0.5em 0.4em;\n",
              "  box-sizing: border-box;\n",
              "  padding-bottom: 0.4em;\n",
              "  background-color: var(--sklearn-color-background);\n",
              "}\n",
              "\n",
              "#sk-container-id-1 div.sk-container {\n",
              "  /* jupyter's `normalize.less` sets `[hidden] { display: none; }`\n",
              "     but bootstrap.min.css set `[hidden] { display: none !important; }`\n",
              "     so we also need the `!important` here to be able to override the\n",
              "     default hidden behavior on the sphinx rendered scikit-learn.org.\n",
              "     See: https://github.com/scikit-learn/scikit-learn/issues/21755 */\n",
              "  display: inline-block !important;\n",
              "  position: relative;\n",
              "}\n",
              "\n",
              "#sk-container-id-1 div.sk-text-repr-fallback {\n",
              "  display: none;\n",
              "}\n",
              "\n",
              "div.sk-parallel-item,\n",
              "div.sk-serial,\n",
              "div.sk-item {\n",
              "  /* draw centered vertical line to link estimators */\n",
              "  background-image: linear-gradient(var(--sklearn-color-text-on-default-background), var(--sklearn-color-text-on-default-background));\n",
              "  background-size: 2px 100%;\n",
              "  background-repeat: no-repeat;\n",
              "  background-position: center center;\n",
              "}\n",
              "\n",
              "/* Parallel-specific style estimator block */\n",
              "\n",
              "#sk-container-id-1 div.sk-parallel-item::after {\n",
              "  content: \"\";\n",
              "  width: 100%;\n",
              "  border-bottom: 2px solid var(--sklearn-color-text-on-default-background);\n",
              "  flex-grow: 1;\n",
              "}\n",
              "\n",
              "#sk-container-id-1 div.sk-parallel {\n",
              "  display: flex;\n",
              "  align-items: stretch;\n",
              "  justify-content: center;\n",
              "  background-color: var(--sklearn-color-background);\n",
              "  position: relative;\n",
              "}\n",
              "\n",
              "#sk-container-id-1 div.sk-parallel-item {\n",
              "  display: flex;\n",
              "  flex-direction: column;\n",
              "}\n",
              "\n",
              "#sk-container-id-1 div.sk-parallel-item:first-child::after {\n",
              "  align-self: flex-end;\n",
              "  width: 50%;\n",
              "}\n",
              "\n",
              "#sk-container-id-1 div.sk-parallel-item:last-child::after {\n",
              "  align-self: flex-start;\n",
              "  width: 50%;\n",
              "}\n",
              "\n",
              "#sk-container-id-1 div.sk-parallel-item:only-child::after {\n",
              "  width: 0;\n",
              "}\n",
              "\n",
              "/* Serial-specific style estimator block */\n",
              "\n",
              "#sk-container-id-1 div.sk-serial {\n",
              "  display: flex;\n",
              "  flex-direction: column;\n",
              "  align-items: center;\n",
              "  background-color: var(--sklearn-color-background);\n",
              "  padding-right: 1em;\n",
              "  padding-left: 1em;\n",
              "}\n",
              "\n",
              "\n",
              "/* Toggleable style: style used for estimator/Pipeline/ColumnTransformer box that is\n",
              "clickable and can be expanded/collapsed.\n",
              "- Pipeline and ColumnTransformer use this feature and define the default style\n",
              "- Estimators will overwrite some part of the style using the `sk-estimator` class\n",
              "*/\n",
              "\n",
              "/* Pipeline and ColumnTransformer style (default) */\n",
              "\n",
              "#sk-container-id-1 div.sk-toggleable {\n",
              "  /* Default theme specific background. It is overwritten whether we have a\n",
              "  specific estimator or a Pipeline/ColumnTransformer */\n",
              "  background-color: var(--sklearn-color-background);\n",
              "}\n",
              "\n",
              "/* Toggleable label */\n",
              "#sk-container-id-1 label.sk-toggleable__label {\n",
              "  cursor: pointer;\n",
              "  display: block;\n",
              "  width: 100%;\n",
              "  margin-bottom: 0;\n",
              "  padding: 0.5em;\n",
              "  box-sizing: border-box;\n",
              "  text-align: center;\n",
              "}\n",
              "\n",
              "#sk-container-id-1 label.sk-toggleable__label-arrow:before {\n",
              "  /* Arrow on the left of the label */\n",
              "  content: \"▸\";\n",
              "  float: left;\n",
              "  margin-right: 0.25em;\n",
              "  color: var(--sklearn-color-icon);\n",
              "}\n",
              "\n",
              "#sk-container-id-1 label.sk-toggleable__label-arrow:hover:before {\n",
              "  color: var(--sklearn-color-text);\n",
              "}\n",
              "\n",
              "/* Toggleable content - dropdown */\n",
              "\n",
              "#sk-container-id-1 div.sk-toggleable__content {\n",
              "  max-height: 0;\n",
              "  max-width: 0;\n",
              "  overflow: hidden;\n",
              "  text-align: left;\n",
              "  /* unfitted */\n",
              "  background-color: var(--sklearn-color-unfitted-level-0);\n",
              "}\n",
              "\n",
              "#sk-container-id-1 div.sk-toggleable__content.fitted {\n",
              "  /* fitted */\n",
              "  background-color: var(--sklearn-color-fitted-level-0);\n",
              "}\n",
              "\n",
              "#sk-container-id-1 div.sk-toggleable__content pre {\n",
              "  margin: 0.2em;\n",
              "  border-radius: 0.25em;\n",
              "  color: var(--sklearn-color-text);\n",
              "  /* unfitted */\n",
              "  background-color: var(--sklearn-color-unfitted-level-0);\n",
              "}\n",
              "\n",
              "#sk-container-id-1 div.sk-toggleable__content.fitted pre {\n",
              "  /* unfitted */\n",
              "  background-color: var(--sklearn-color-fitted-level-0);\n",
              "}\n",
              "\n",
              "#sk-container-id-1 input.sk-toggleable__control:checked~div.sk-toggleable__content {\n",
              "  /* Expand drop-down */\n",
              "  max-height: 200px;\n",
              "  max-width: 100%;\n",
              "  overflow: auto;\n",
              "}\n",
              "\n",
              "#sk-container-id-1 input.sk-toggleable__control:checked~label.sk-toggleable__label-arrow:before {\n",
              "  content: \"▾\";\n",
              "}\n",
              "\n",
              "/* Pipeline/ColumnTransformer-specific style */\n",
              "\n",
              "#sk-container-id-1 div.sk-label input.sk-toggleable__control:checked~label.sk-toggleable__label {\n",
              "  color: var(--sklearn-color-text);\n",
              "  background-color: var(--sklearn-color-unfitted-level-2);\n",
              "}\n",
              "\n",
              "#sk-container-id-1 div.sk-label.fitted input.sk-toggleable__control:checked~label.sk-toggleable__label {\n",
              "  background-color: var(--sklearn-color-fitted-level-2);\n",
              "}\n",
              "\n",
              "/* Estimator-specific style */\n",
              "\n",
              "/* Colorize estimator box */\n",
              "#sk-container-id-1 div.sk-estimator input.sk-toggleable__control:checked~label.sk-toggleable__label {\n",
              "  /* unfitted */\n",
              "  background-color: var(--sklearn-color-unfitted-level-2);\n",
              "}\n",
              "\n",
              "#sk-container-id-1 div.sk-estimator.fitted input.sk-toggleable__control:checked~label.sk-toggleable__label {\n",
              "  /* fitted */\n",
              "  background-color: var(--sklearn-color-fitted-level-2);\n",
              "}\n",
              "\n",
              "#sk-container-id-1 div.sk-label label.sk-toggleable__label,\n",
              "#sk-container-id-1 div.sk-label label {\n",
              "  /* The background is the default theme color */\n",
              "  color: var(--sklearn-color-text-on-default-background);\n",
              "}\n",
              "\n",
              "/* On hover, darken the color of the background */\n",
              "#sk-container-id-1 div.sk-label:hover label.sk-toggleable__label {\n",
              "  color: var(--sklearn-color-text);\n",
              "  background-color: var(--sklearn-color-unfitted-level-2);\n",
              "}\n",
              "\n",
              "/* Label box, darken color on hover, fitted */\n",
              "#sk-container-id-1 div.sk-label.fitted:hover label.sk-toggleable__label.fitted {\n",
              "  color: var(--sklearn-color-text);\n",
              "  background-color: var(--sklearn-color-fitted-level-2);\n",
              "}\n",
              "\n",
              "/* Estimator label */\n",
              "\n",
              "#sk-container-id-1 div.sk-label label {\n",
              "  font-family: monospace;\n",
              "  font-weight: bold;\n",
              "  display: inline-block;\n",
              "  line-height: 1.2em;\n",
              "}\n",
              "\n",
              "#sk-container-id-1 div.sk-label-container {\n",
              "  text-align: center;\n",
              "}\n",
              "\n",
              "/* Estimator-specific */\n",
              "#sk-container-id-1 div.sk-estimator {\n",
              "  font-family: monospace;\n",
              "  border: 1px dotted var(--sklearn-color-border-box);\n",
              "  border-radius: 0.25em;\n",
              "  box-sizing: border-box;\n",
              "  margin-bottom: 0.5em;\n",
              "  /* unfitted */\n",
              "  background-color: var(--sklearn-color-unfitted-level-0);\n",
              "}\n",
              "\n",
              "#sk-container-id-1 div.sk-estimator.fitted {\n",
              "  /* fitted */\n",
              "  background-color: var(--sklearn-color-fitted-level-0);\n",
              "}\n",
              "\n",
              "/* on hover */\n",
              "#sk-container-id-1 div.sk-estimator:hover {\n",
              "  /* unfitted */\n",
              "  background-color: var(--sklearn-color-unfitted-level-2);\n",
              "}\n",
              "\n",
              "#sk-container-id-1 div.sk-estimator.fitted:hover {\n",
              "  /* fitted */\n",
              "  background-color: var(--sklearn-color-fitted-level-2);\n",
              "}\n",
              "\n",
              "/* Specification for estimator info (e.g. \"i\" and \"?\") */\n",
              "\n",
              "/* Common style for \"i\" and \"?\" */\n",
              "\n",
              ".sk-estimator-doc-link,\n",
              "a:link.sk-estimator-doc-link,\n",
              "a:visited.sk-estimator-doc-link {\n",
              "  float: right;\n",
              "  font-size: smaller;\n",
              "  line-height: 1em;\n",
              "  font-family: monospace;\n",
              "  background-color: var(--sklearn-color-background);\n",
              "  border-radius: 1em;\n",
              "  height: 1em;\n",
              "  width: 1em;\n",
              "  text-decoration: none !important;\n",
              "  margin-left: 1ex;\n",
              "  /* unfitted */\n",
              "  border: var(--sklearn-color-unfitted-level-1) 1pt solid;\n",
              "  color: var(--sklearn-color-unfitted-level-1);\n",
              "}\n",
              "\n",
              ".sk-estimator-doc-link.fitted,\n",
              "a:link.sk-estimator-doc-link.fitted,\n",
              "a:visited.sk-estimator-doc-link.fitted {\n",
              "  /* fitted */\n",
              "  border: var(--sklearn-color-fitted-level-1) 1pt solid;\n",
              "  color: var(--sklearn-color-fitted-level-1);\n",
              "}\n",
              "\n",
              "/* On hover */\n",
              "div.sk-estimator:hover .sk-estimator-doc-link:hover,\n",
              ".sk-estimator-doc-link:hover,\n",
              "div.sk-label-container:hover .sk-estimator-doc-link:hover,\n",
              ".sk-estimator-doc-link:hover {\n",
              "  /* unfitted */\n",
              "  background-color: var(--sklearn-color-unfitted-level-3);\n",
              "  color: var(--sklearn-color-background);\n",
              "  text-decoration: none;\n",
              "}\n",
              "\n",
              "div.sk-estimator.fitted:hover .sk-estimator-doc-link.fitted:hover,\n",
              ".sk-estimator-doc-link.fitted:hover,\n",
              "div.sk-label-container:hover .sk-estimator-doc-link.fitted:hover,\n",
              ".sk-estimator-doc-link.fitted:hover {\n",
              "  /* fitted */\n",
              "  background-color: var(--sklearn-color-fitted-level-3);\n",
              "  color: var(--sklearn-color-background);\n",
              "  text-decoration: none;\n",
              "}\n",
              "\n",
              "/* Span, style for the box shown on hovering the info icon */\n",
              ".sk-estimator-doc-link span {\n",
              "  display: none;\n",
              "  z-index: 9999;\n",
              "  position: relative;\n",
              "  font-weight: normal;\n",
              "  right: .2ex;\n",
              "  padding: .5ex;\n",
              "  margin: .5ex;\n",
              "  width: min-content;\n",
              "  min-width: 20ex;\n",
              "  max-width: 50ex;\n",
              "  color: var(--sklearn-color-text);\n",
              "  box-shadow: 2pt 2pt 4pt #999;\n",
              "  /* unfitted */\n",
              "  background: var(--sklearn-color-unfitted-level-0);\n",
              "  border: .5pt solid var(--sklearn-color-unfitted-level-3);\n",
              "}\n",
              "\n",
              ".sk-estimator-doc-link.fitted span {\n",
              "  /* fitted */\n",
              "  background: var(--sklearn-color-fitted-level-0);\n",
              "  border: var(--sklearn-color-fitted-level-3);\n",
              "}\n",
              "\n",
              ".sk-estimator-doc-link:hover span {\n",
              "  display: block;\n",
              "}\n",
              "\n",
              "/* \"?\"-specific style due to the `<a>` HTML tag */\n",
              "\n",
              "#sk-container-id-1 a.estimator_doc_link {\n",
              "  float: right;\n",
              "  font-size: 1rem;\n",
              "  line-height: 1em;\n",
              "  font-family: monospace;\n",
              "  background-color: var(--sklearn-color-background);\n",
              "  border-radius: 1rem;\n",
              "  height: 1rem;\n",
              "  width: 1rem;\n",
              "  text-decoration: none;\n",
              "  /* unfitted */\n",
              "  color: var(--sklearn-color-unfitted-level-1);\n",
              "  border: var(--sklearn-color-unfitted-level-1) 1pt solid;\n",
              "}\n",
              "\n",
              "#sk-container-id-1 a.estimator_doc_link.fitted {\n",
              "  /* fitted */\n",
              "  border: var(--sklearn-color-fitted-level-1) 1pt solid;\n",
              "  color: var(--sklearn-color-fitted-level-1);\n",
              "}\n",
              "\n",
              "/* On hover */\n",
              "#sk-container-id-1 a.estimator_doc_link:hover {\n",
              "  /* unfitted */\n",
              "  background-color: var(--sklearn-color-unfitted-level-3);\n",
              "  color: var(--sklearn-color-background);\n",
              "  text-decoration: none;\n",
              "}\n",
              "\n",
              "#sk-container-id-1 a.estimator_doc_link.fitted:hover {\n",
              "  /* fitted */\n",
              "  background-color: var(--sklearn-color-fitted-level-3);\n",
              "}\n",
              "</style><div id=\"sk-container-id-1\" class=\"sk-top-container\"><div class=\"sk-text-repr-fallback\"><pre>MinMaxScaler()</pre><b>In a Jupyter environment, please rerun this cell to show the HTML representation or trust the notebook. <br />On GitHub, the HTML representation is unable to render, please try loading this page with nbviewer.org.</b></div><div class=\"sk-container\" hidden><div class=\"sk-item\"><div class=\"sk-estimator fitted sk-toggleable\"><input class=\"sk-toggleable__control sk-hidden--visually\" id=\"sk-estimator-id-1\" type=\"checkbox\" checked><label for=\"sk-estimator-id-1\" class=\"sk-toggleable__label fitted sk-toggleable__label-arrow fitted\">&nbsp;&nbsp;MinMaxScaler<a class=\"sk-estimator-doc-link fitted\" rel=\"noreferrer\" target=\"_blank\" href=\"https://scikit-learn.org/1.4/modules/generated/sklearn.preprocessing.MinMaxScaler.html\">?<span>Documentation for MinMaxScaler</span></a><span class=\"sk-estimator-doc-link fitted\">i<span>Fitted</span></span></label><div class=\"sk-toggleable__content fitted\"><pre>MinMaxScaler()</pre></div> </div></div></div></div>"
            ],
            "text/plain": [
              "MinMaxScaler()"
            ]
          },
          "execution_count": 135,
          "metadata": {},
          "output_type": "execute_result"
        }
      ],
      "source": [
        "target_scaler = MinMaxScaler(feature_range=(0, 1))\n",
        "target_scaler.fit(y_train.reshape(-1, 1))  # Fit the scaler on the target during training"
      ]
    },
    {
      "cell_type": "code",
      "execution_count": null,
      "metadata": {
        "id": "m-bS1wvv-fdK"
      },
      "outputs": [],
      "source": [
        "# Inverse transform to get original scale\n",
        "predictions_inverse = target_scaler.inverse_transform(predictions)"
      ]
    },
    {
      "cell_type": "code",
      "execution_count": null,
      "metadata": {
        "colab": {
          "base_uri": "https://localhost:8080/"
        },
        "id": "PS2yMkr2-Gre",
        "outputId": "d80530e6-49cc-4894-ef3c-45b3de56ef3e"
      },
      "outputs": [
        {
          "data": {
            "text/plain": [
              "(260101, 1)"
            ]
          },
          "execution_count": 137,
          "metadata": {},
          "output_type": "execute_result"
        }
      ],
      "source": [
        "predictions_inverse.shape"
      ]
    },
    {
      "cell_type": "code",
      "execution_count": null,
      "metadata": {
        "colab": {
          "base_uri": "https://localhost:8080/"
        },
        "id": "Rz3rUmVx-t66",
        "outputId": "f99c91d3-4648-4064-d880-8632d0afd52d"
      },
      "outputs": [
        {
          "data": {
            "text/plain": [
              "array([[9.8771858e-01],\n",
              "       [9.8771858e-01],\n",
              "       [9.8771858e-01],\n",
              "       ...,\n",
              "       [7.4595213e-04],\n",
              "       [7.4595213e-04],\n",
              "       [7.4595213e-04]], dtype=float32)"
            ]
          },
          "execution_count": 142,
          "metadata": {},
          "output_type": "execute_result"
        }
      ],
      "source": [
        "predictions"
      ]
    }
  ],
  "metadata": {
    "accelerator": "GPU",
    "colab": {
      "gpuType": "T4",
      "provenance": []
    },
    "kernelspec": {
      "display_name": "Python 3",
      "name": "python3"
    },
    "language_info": {
      "name": "python"
    }
  },
  "nbformat": 4,
  "nbformat_minor": 0
}
